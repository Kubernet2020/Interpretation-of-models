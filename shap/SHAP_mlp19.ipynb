{
  "nbformat": 4,
  "nbformat_minor": 0,
  "metadata": {
    "colab": {
      "name": "pytorch_IDS.ipynb",
      "provenance": [],
      "collapsed_sections": [],
      "machine_shape": "hm"
    },
    "kernelspec": {
      "display_name": "Python 3",
      "name": "python3"
    }
  },
  "cells": [
    {
      "cell_type": "code",
      "metadata": {
        "colab": {
          "base_uri": "https://localhost:8080/"
        },
        "id": "p5WNyHfKvnhR",
        "outputId": "8490427f-6a4e-43e4-815e-821dfe21cf99"
      },
      "source": [
        "from google.colab import drive\n",
        "drive.mount('/gdrive')"
      ],
      "execution_count": null,
      "outputs": [
        {
          "output_type": "stream",
          "text": [
            "Drive already mounted at /gdrive; to attempt to forcibly remount, call drive.mount(\"/gdrive\", force_remount=True).\n"
          ],
          "name": "stdout"
        }
      ]
    },
    {
      "cell_type": "code",
      "metadata": {
        "id": "AHO54IXuvuho"
      },
      "source": [
        "IDS2017URL = \"/gdrive/MyDrive/IDS2017/IDS2017.csv\""
      ],
      "execution_count": null,
      "outputs": []
    },
    {
      "cell_type": "code",
      "metadata": {
        "id": "cm0QQ9MAv7RT"
      },
      "source": [
        "import torch\n",
        "import pandas as pd\n",
        "import tensorflow as tf\n",
        "import numpy as np\n",
        "import torch.nn as nn\n",
        "import random\n",
        "\n",
        "from numpy import vstack\n",
        "from numpy import argmax\n",
        "from pandas import read_csv\n",
        "from sklearn.preprocessing import LabelEncoder\n",
        "from sklearn.metrics import accuracy_score\n",
        "from torch import Tensor\n",
        "from torch.utils.data import Dataset\n",
        "from torch.utils.data import DataLoader\n",
        "from torch.utils.data import random_split\n",
        "from torch.nn import Linear\n",
        "from torch.nn import ReLU\n",
        "from torch.nn import Softmax\n",
        "from torch.nn import Module\n",
        "from torch.optim import SGD\n",
        "from torch.optim import Adam\n",
        "from torch.nn import CrossEntropyLoss\n",
        "from torch.nn.init import kaiming_uniform_\n",
        "from torch.nn.init import xavier_uniform_\n",
        "from torchvision import transforms"
      ],
      "execution_count": null,
      "outputs": []
    },
    {
      "cell_type": "code",
      "metadata": {
        "id": "rR_LNLx-j2j0"
      },
      "source": [
        "def setup_seed(seed):\n",
        "     torch.manual_seed(seed)\n",
        "     torch.cuda.manual_seed_all(seed)\n",
        "     np.random.seed(seed)\n",
        "     random.seed(seed)\n",
        "     torch.backends.cudnn.deterministic = True\n",
        "\n",
        "setup_seed(19)"
      ],
      "execution_count": null,
      "outputs": []
    },
    {
      "cell_type": "code",
      "metadata": {
        "id": "Tk-xiEYxkMuD"
      },
      "source": [
        "def balance_data(X,y,seed):\n",
        "  np.random.seed(seed)\n",
        "  unique,counts = np.unique(y,return_counts=True)\n",
        "  #unique\n",
        "  #array([ 0,  1,  2,  3,  4,  5,  6,  7,  8,  9, 10, 11, 12])\n",
        "  #counts\n",
        "  #array([2357511,    1956,   41834,   10293,  230124,    5499,    5796, 7935,      11,      36,  158804,    5897,    2180])\n",
        "  mean_samples_per_class = int(round(np.mean(counts)))\n",
        "  N,D = X.shape\n",
        "  new_X = np.empty((0,D))\n",
        "  new_y = np.empty((0),dtype=int)\n",
        "  for i,c in enumerate(unique):\n",
        "      temp_x = X[y==c]\n",
        "      indices = np.random.choice(temp_x.shape[0],mean_samples_per_class) # gets `mean_samples_per_class` indices of class `c`\n",
        "      new_X = np.concatenate((new_X,temp_x[indices]),axis=0) # now we put new data into new_X \n",
        "      temp_y = np.ones(mean_samples_per_class,dtype=int)*c\n",
        "      new_y = np.concatenate((new_y,temp_y),axis=0)\n",
        "      indices = np.arange(new_y.shape[0])\n",
        "      np.random.shuffle(indices)\n",
        "      new_X =  new_X[indices,:]\n",
        "      new_y = new_y[indices]\n",
        "  return (new_X, new_y)"
      ],
      "execution_count": null,
      "outputs": []
    },
    {
      "cell_type": "code",
      "metadata": {
        "id": "9l2BPkI9u-O6"
      },
      "source": [
        "class IDSDataset(Dataset):\n",
        "\n",
        "    def __init__(self, IDS2017URL, tranform=True):\n",
        "      df = pd.read_csv(IDS2017URL)\n",
        "      df.loc[df['Label'].isin([ 'Web Attack - Sql Injection','Web Attack - XSS', 'Web Attack - Brute Force']), 'Label'] = 'Web Attack'\n",
        "      df = df[['Fwd Packet Length Mean', 'Fwd Packet Length Std', 'Flow IAT Max', 'Bwd Packet Length Std', 'Fwd Packet Length Max', 'Flow Bytes/s', 'Total Length of Bwd Packets', 'Fwd Packet Length Mean', 'Flow Duration', 'Flow IAT Min', 'Total Length of Fwd Packets', 'Flow IAT Mean', 'Total Backward Packets', 'Bwd Packet Length Max', 'Flow Packets/s', 'Flow IAT Std', 'Fwd IAT Total', 'Bwd Packet Length Min', 'Fwd Packet Length Min', 'Label']]\n",
        "      \n",
        "      #df = df[~df['Label'].isin(['Heartbleed', 'Web Attack - Sql Injection', 'Infiltration', 'Web Attack - XSS', 'Web Attack - Brute Force'])]\n",
        "      df = df.replace([-np.inf, np.inf], np.nan)\n",
        "      df = df.dropna()\n",
        "      #df.drop(df.columns[[37,39,61,62,63,64,65,66]],axis=1,inplace=True)\n",
        "      self.X = df.iloc[:, :-1].apply(lambda x: (x-np.mean(x))/np.std(x)).values\n",
        "      self.y = df.values[:, -1]\n",
        "      \n",
        "      le = LabelEncoder()\n",
        "      le.fit([\"BENIGN\", \"DoS Hulk\", \"PortScan\", \"DDoS\", \"DoS GoldenEye\",\"FTP-Patator\",\"SSH-Patator\",\"DoS slowloris\",\"DoS Slowhttptest\",\"Web Attack\",\"Bot\",\"Infiltration\",\"Heartbleed\"])\n",
        "      self.y = le.transform(self.y)\n",
        "      self.X, self.y = balance_data(self.X, self.y, seed=2)\n",
        "      self.X = self.X.astype('float32')\n",
        "      print(self.y)\n",
        "\n",
        "\n",
        "    def __len__(self):\n",
        "      return len(self.X)\n",
        "    \n",
        "    def __getitem__(self, idx):\n",
        "      return [self.X[idx], self.y[idx]]\n",
        " \n",
        "    # get indexes for train and test rows\n",
        "    def get_splits(self, n_test=0.33):\n",
        "        # determine sizes\n",
        "        test_size = round(n_test * len(self.X))\n",
        "        train_size = len(self.X) - test_size\n",
        "        # calculate the split\n",
        "        return random_split(self, [train_size, test_size])\n",
        "\n",
        "class MLP(Module):\n",
        "    # define model elements\n",
        "    def __init__(self, n_inputs):\n",
        "        super(MLP, self).__init__()\n",
        "        # input to first hidden layer\n",
        "        self.hidden1 = Linear(n_inputs, 20)\n",
        "        kaiming_uniform_(self.hidden1.weight, nonlinearity='relu')\n",
        "        self.act1 = ReLU()\n",
        "        # second hidden layer\n",
        "        self.hidden2 = Linear(20, 20)\n",
        "        kaiming_uniform_(self.hidden2.weight, nonlinearity='relu')\n",
        "        self.act2 = ReLU()\n",
        "        # third hidden layer and output\n",
        "        self.hidden3 = Linear(20, 13)\n",
        "        xavier_uniform_(self.hidden3.weight)\n",
        "        self.act3 = Softmax(dim=1)\n",
        "\n",
        "    def forward(self, X):\n",
        "        # input to first hidden layer\n",
        "        X = self.hidden1(X)\n",
        "        X = self.act1(X)\n",
        "\n",
        "        # second hidden layer\n",
        "        X = self.hidden2(X)\n",
        "        X = self.act2(X)\n",
        "\n",
        "        # output layer\n",
        "        X = self.hidden3(X)\n",
        "        X = self.act3(X)\n",
        "\n",
        "        return X\n",
        " \n",
        "def prepare_data(path):\n",
        "    # load the dataset\n",
        "    dataset = IDSDataset(path)\n",
        "    # calculate split\n",
        "    train, test = dataset.get_splits()\n",
        "    # prepare data loaders\n",
        "    train_dl = DataLoader(train, batch_size=10000, shuffle=True)\n",
        "    test_dl = DataLoader(test, batch_size=10000, shuffle=False)\n",
        "    return train_dl, test_dl\n",
        "\n",
        "def train_model(train_dl, model):\n",
        "    # define the optimization\n",
        "    criterion = CrossEntropyLoss()\n",
        "    optimizer = Adam(model.parameters(), lr=0.001)\n",
        "    # enumerate epochs\n",
        "    for epoch in range(4):\n",
        "        # enumerate mini batches\n",
        "        print(model.state_dict())\n",
        "        for i, (inputs, targets) in enumerate(train_dl):\n",
        "            # clear the gradients\n",
        "            optimizer.zero_grad()\n",
        "            #torch.autograd.set_detect_anomaly(True)\n",
        "            # compute the model output\n",
        "            #print(inputs)\n",
        "            #print(\"******************\")\n",
        "            yhat = model(inputs)\n",
        "            #print(yhat)\n",
        "            # calculate loss\n",
        "            loss = criterion(yhat, targets)\n",
        "            # credit assignment\n",
        "            loss.backward()\n",
        "            # update model weights\n",
        "            optimizer.step()\n",
        "            if i % 10 == 0:\n",
        "                print('Train Epoch: {} [{}/{} ({:.0f}%)]\\tLoss: {:.6f}'.format(\n",
        "                epoch, i * len(inputs), len(train_dl.dataset),\n",
        "                100. * i / len(train_dl), loss.item()))\n",
        "            # print('[%d, %5d] loss: %.3f' %(epoch + 1, i + 1, loss.item()))\n",
        "            # running_loss = 0.0\n",
        "\n",
        "def evaluate_model(test_dl, model):\n",
        "    predictions, actuals = list(), list()\n",
        "    for i, (inputs, targets) in enumerate(test_dl):\n",
        "        # evaluate the model on the test set\n",
        "        yhat = model(inputs)\n",
        "        # retrieve numpy array\n",
        "        yhat = yhat.detach().numpy()\n",
        "        actual = targets.numpy()\n",
        "        # convert to class labels\n",
        "        yhat = argmax(yhat, axis=1)\n",
        "        # reshape for stacking\n",
        "        actual = actual.reshape((len(actual), 1))\n",
        "        yhat = yhat.reshape((len(yhat), 1))\n",
        "        # store\n",
        "        predictions.append(yhat)\n",
        "        actuals.append(actual)\n",
        "    predictions, actuals = vstack(predictions), vstack(actuals)\n",
        "    # calculate accuracy\n",
        "    acc = accuracy_score(actuals, predictions)\n",
        "    return acc\n",
        "\n",
        "def predict(row, model):\n",
        "    # convert row to data\n",
        "    row = Tensor([row])\n",
        "    # make prediction\n",
        "    yhat = model(row)\n",
        "    # retrieve numpy array\n",
        "    yhat = yhat.detach().numpy()\n",
        "    return yhat"
      ],
      "execution_count": null,
      "outputs": []
    },
    {
      "cell_type": "code",
      "metadata": {
        "id": "dm54QeooU6a_"
      },
      "source": [
        "# class IDSDataset(Dataset):\n",
        "\n",
        "#     def __init__(self, IDS2017URL, tranform=True):\n",
        "#       df = pd.read_csv(IDS2017URL)\n",
        "#       df = df[~df['Label'].isin(['Heartbleed', 'Web Attack - Sql Injection', 'Infiltration', 'Web Attack - XSS', 'Web Attack - Brute Force'])]\n",
        "#       df = df.replace([-np.inf, np.inf], np.nan)\n",
        "#       df = df.dropna()\n",
        "#       df = pd.concat([df.iloc[:,0:37], df[:,38:],df.iloc[:, -2:]], axis=1)\n",
        "#       self.X = df.iloc[:, :-2].apply(lambda x: (x-np.mean(x))/np.std(x)+0.00001).values\n",
        "#       self.y = df.values[:, -2]\n",
        "#       self.X = self.X.astype('float32')\n",
        "#       self.y = LabelEncoder().fit_transform(self.y)\n",
        "\n",
        "#     def __len__(self):\n",
        "#       return len(self.X)\n",
        "    \n",
        "#     def __getitem__(self, idx):\n",
        "#       return [self.X[idx], self.y[idx]]\n",
        " \n",
        "#     # get indexes for train and test rows\n",
        "#     def get_splits(self, n_test=0.33):\n",
        "#         # determine sizes\n",
        "#         test_size = round(n_test * len(self.X))\n",
        "#         train_size = len(self.X) - test_size\n",
        "#         # calculate the split\n",
        "#         return random_split(self, [train_size, test_size])\n",
        "\n",
        "# class MLP(Module):\n",
        "#     # define model elements\n",
        "#     def __init__(self, n_inputs):\n",
        "#         super(MLP, self).__init__()\n",
        "#         # input to first hidden layer\n",
        "#         self.hidden1 = Linear(n_inputs, 76)\n",
        "#         #kaiming_uniform_(self.hidden1.weight, nonlinearity='relu')\n",
        "#         self.act1 = ReLU()\n",
        "#         # second hidden layer\n",
        "#         self.hidden2 = Linear(76, 76)\n",
        "#         #kaiming_uniform_(self.hidden2.weight, nonlinearity='relu')\n",
        "#         self.act2 = ReLU()\n",
        "#         # third hidden layer and output\n",
        "#         self.hidden3 = Linear(76, 10)\n",
        "#         #xavier_uniform_(self.hidden3.weight)\n",
        "#         self.act3 = Softmax(dim=1)\n",
        "\n",
        "#     def forward(self, X):\n",
        "#         # input to first hidden layer\n",
        "#         X = self.hidden1(X)\n",
        "#         X = self.act1(X)\n",
        "#         print(X)\n",
        "#         # second hidden layer\n",
        "#         X = self.hidden2(X)\n",
        "#         X = self.act2(X)\n",
        "#         print(X)\n",
        "#         # output layer\n",
        "#         X = self.hidden3(X)\n",
        "#         X = self.act3(X)\n",
        "#         print(X)\n",
        "#         return X\n",
        " \n",
        "# def prepare_data(path):\n",
        "#     # load the dataset\n",
        "#     dataset = IDSDataset(path)\n",
        "#     # calculate split\n",
        "#     train, test = dataset.get_splits()\n",
        "#     # prepare data loaders\n",
        "#     train_dl = DataLoader(train, batch_size=1000, shuffle=True)\n",
        "#     test_dl = DataLoader(test, batch_size=1000, shuffle=False)\n",
        "#     return train_dl, test_dl\n",
        "\n",
        "# def train_model(train_dl, model):\n",
        "#     # define the optimization\n",
        "#     criterion = CrossEntropyLoss()\n",
        "#     optimizer = Adam(model.parameters(), lr=0.0001)\n",
        "#     # enumerate epochs\n",
        "#     for epoch in range(10):\n",
        "#         # enumerate mini batches\n",
        "#         print(model.state_dict())\n",
        "#         for i, (inputs, targets) in enumerate(train_dl):\n",
        "#             # clear the gradients\n",
        "#             optimizer.zero_grad()\n",
        "#             #torch.autograd.set_detect_anomaly(True)\n",
        "#             # compute the model output\n",
        "#             #print(inputs)\n",
        "#             #print(\"******************\")\n",
        "#             yhat = model(inputs)\n",
        "#             #print(yhat)\n",
        "#             # calculate loss\n",
        "#             loss = criterion(yhat, targets)\n",
        "#             # credit assignment\n",
        "#             loss.backward()\n",
        "#             # update model weights\n",
        "#             optimizer.step()\n",
        "\n",
        "# def evaluate_model(test_dl, model):\n",
        "#     predictions, actuals = list(), list()\n",
        "#     for i, (inputs, targets) in enumerate(test_dl):\n",
        "#         # evaluate the model on the test set\n",
        "#         yhat = model(inputs)\n",
        "#         # retrieve numpy array\n",
        "#         yhat = yhat.detach().numpy()\n",
        "#         actual = targets.numpy()\n",
        "#         # convert to class labels\n",
        "#         yhat = argmax(yhat, axis=1)\n",
        "#         # reshape for stacking\n",
        "#         actual = actual.reshape((len(actual), 1))\n",
        "#         yhat = yhat.reshape((len(yhat), 1))\n",
        "#         # store\n",
        "#         predictions.append(yhat)\n",
        "#         actuals.append(actual)\n",
        "#     predictions, actuals = vstack(predictions), vstack(actuals)\n",
        "#     # calculate accuracy\n",
        "#     acc = accuracy_score(actuals, predictions)\n",
        "#     return acc\n",
        "\n",
        "# def predict(row, model):\n",
        "#     # convert row to data\n",
        "#     row = Tensor([row])\n",
        "#     # make prediction\n",
        "#     yhat = model(row)\n",
        "#     # retrieve numpy array\n",
        "#     yhat = yhat.detach().numpy()\n",
        "#     return yhat"
      ],
      "execution_count": null,
      "outputs": []
    },
    {
      "cell_type": "code",
      "metadata": {
        "colab": {
          "base_uri": "https://localhost:8080/"
        },
        "id": "K93DyQu42DyP",
        "outputId": "dbf4bb49-7cc2-41c2-f3d6-3a38ce2e7408"
      },
      "source": [
        "train_dl, test_dl = prepare_data(IDS2017URL)"
      ],
      "execution_count": null,
      "outputs": [
        {
          "output_type": "stream",
          "text": [
            "Columns (84) have mixed types.Specify dtype option on import or set low_memory=False.\n"
          ],
          "name": "stderr"
        },
        {
          "output_type": "stream",
          "text": [
            "[ 4  6  2 ...  5 10  8]\n"
          ],
          "name": "stdout"
        }
      ]
    },
    {
      "cell_type": "code",
      "metadata": {
        "colab": {
          "base_uri": "https://localhost:8080/"
        },
        "id": "H9MC8dvBWxD0",
        "outputId": "ab1da4b9-a0e2-451a-a519-e26109bbc64b"
      },
      "source": [
        "train_dl.dataset"
      ],
      "execution_count": null,
      "outputs": [
        {
          "output_type": "execute_result",
          "data": {
            "text/plain": [
              "<torch.utils.data.dataset.Subset at 0x7ff431ad6b10>"
            ]
          },
          "metadata": {
            "tags": []
          },
          "execution_count": 56
        }
      ]
    },
    {
      "cell_type": "code",
      "metadata": {
        "colab": {
          "base_uri": "https://localhost:8080/"
        },
        "id": "hTmP4irw2VTu",
        "outputId": "c8cda688-755a-4916-f818-42d6be103989"
      },
      "source": [
        "print(len(train_dl.dataset), len(test_dl.dataset))"
      ],
      "execution_count": null,
      "outputs": [
        {
          "output_type": "stream",
          "text": [
            "1894678 933199\n"
          ],
          "name": "stdout"
        }
      ]
    },
    {
      "cell_type": "code",
      "metadata": {
        "id": "qE1Uy8t23IoV"
      },
      "source": [
        "model = MLP(19)"
      ],
      "execution_count": null,
      "outputs": []
    },
    {
      "cell_type": "code",
      "metadata": {
        "id": "Ewrf7xFUTbXl"
      },
      "source": [
        ""
      ],
      "execution_count": null,
      "outputs": []
    },
    {
      "cell_type": "code",
      "metadata": {
        "colab": {
          "base_uri": "https://localhost:8080/"
        },
        "id": "1YRRGIyH3LGW",
        "outputId": "d28ff3b0-493c-4c8e-ebe9-8664c224fc0e"
      },
      "source": [
        "train_model(train_dl, model)"
      ],
      "execution_count": null,
      "outputs": [
        {
          "output_type": "stream",
          "text": [
            "OrderedDict([('hidden1.weight', tensor([[ 4.3708e-02, -2.6401e-01, -1.4147e-01, -3.5152e-01, -2.1487e-01,\n",
            "         -4.5043e-01, -2.8713e-01, -1.0456e-01, -1.9378e-01, -2.7206e-01,\n",
            "         -1.7781e-01, -1.0152e-01,  2.2577e-01,  2.3655e-01,  1.4220e-01,\n",
            "         -3.8710e-01,  2.5107e-01, -4.3265e-01, -4.4896e-01],\n",
            "        [-2.1098e-01, -1.0824e-01,  4.0096e-01,  2.4272e-01,  4.3802e-02,\n",
            "         -8.1274e-02, -4.8923e-01, -2.6946e-01,  1.1173e-02, -3.9400e-01,\n",
            "         -1.2877e-01, -2.7328e-01, -2.2684e-01,  2.1197e-01, -4.3739e-01,\n",
            "          1.3195e-01,  5.2679e-01, -3.5781e-01,  7.6137e-02],\n",
            "        [ 1.1418e-01, -3.5647e-01, -4.4265e-01, -5.3883e-01, -5.0165e-01,\n",
            "         -4.5182e-02,  1.0992e-01,  2.7490e-01,  1.1037e-01,  9.5280e-02,\n",
            "         -7.7786e-02,  3.0529e-01,  1.1635e-01,  5.0539e-01,  2.6515e-01,\n",
            "         -2.9331e-02, -8.1325e-02,  2.5729e-02, -1.6086e-01],\n",
            "        [ 2.5805e-01, -1.9802e-01,  2.9973e-01, -1.3390e-01, -5.4929e-01,\n",
            "         -2.1358e-01, -1.1801e-01,  3.4997e-01,  4.0312e-01,  2.1763e-01,\n",
            "         -3.9045e-01,  1.0449e-01,  3.2810e-01, -3.4257e-01, -3.2934e-01,\n",
            "          4.0365e-02, -4.3300e-01,  4.8602e-01,  2.6006e-01],\n",
            "        [-9.1607e-02, -4.0122e-01, -3.4428e-01, -9.5098e-02,  3.7610e-01,\n",
            "         -4.4259e-02,  4.4809e-01, -2.2416e-01, -3.5541e-01,  3.1209e-02,\n",
            "         -1.2355e-01, -2.5449e-01, -4.2020e-01, -2.5164e-01, -5.4058e-02,\n",
            "          1.4936e-01, -3.3894e-01,  1.5937e-01,  2.6869e-01],\n",
            "        [-1.1689e-01, -2.2276e-01, -2.7155e-01,  3.7261e-01, -4.6160e-01,\n",
            "          1.7366e-01,  4.7247e-01,  2.4048e-01, -2.0905e-01,  4.5765e-01,\n",
            "         -3.2873e-01, -5.8251e-02, -1.7900e-01,  3.9315e-01, -6.5258e-02,\n",
            "         -4.3946e-01,  2.4026e-01,  4.8395e-01, -8.9959e-02],\n",
            "        [ 6.7036e-02,  1.0320e-01,  2.2039e-01, -3.0256e-01, -4.6070e-01,\n",
            "          4.1891e-01, -2.2142e-01,  1.0656e-01, -4.9689e-01,  3.0078e-01,\n",
            "         -1.3363e-01, -2.8300e-02,  3.7811e-01, -2.9194e-01,  4.0767e-01,\n",
            "          5.1135e-01, -2.6580e-01, -2.7932e-02,  5.7417e-02],\n",
            "        [ 1.7384e-01, -5.4334e-02,  1.1161e-01, -5.0558e-01,  3.9672e-01,\n",
            "         -1.1098e-01, -1.3729e-01, -5.4376e-01, -5.1213e-01, -1.1043e-01,\n",
            "         -4.1147e-01,  2.5520e-01, -3.4137e-01,  4.8413e-01,  5.5390e-01,\n",
            "          8.7047e-02, -4.3371e-01, -7.9962e-02,  2.5800e-01],\n",
            "        [-3.4162e-01, -1.9012e-01, -3.1113e-02,  1.8991e-01, -5.8265e-02,\n",
            "          4.6536e-01, -3.4942e-01,  4.5028e-01, -3.2590e-01, -5.0410e-02,\n",
            "         -2.7781e-01, -4.1132e-01,  1.8622e-01, -9.6100e-03, -1.3584e-01,\n",
            "          3.7549e-01, -3.1232e-01, -2.7718e-01,  4.4711e-02],\n",
            "        [-5.0711e-01,  1.3984e-01, -3.2390e-01,  1.5372e-01, -5.3835e-01,\n",
            "          5.2351e-01, -2.1617e-01,  2.4160e-01, -9.2995e-02, -2.1597e-01,\n",
            "          5.2034e-01,  4.9284e-04,  2.2947e-01,  4.7535e-01, -5.0506e-01,\n",
            "          4.9061e-01, -4.4357e-01, -5.4441e-01, -5.2008e-01],\n",
            "        [-4.2241e-02, -1.5575e-01, -3.6277e-02, -2.7282e-02, -4.7552e-02,\n",
            "          1.6937e-01, -2.3619e-01,  4.6934e-01,  5.1109e-01, -1.1867e-01,\n",
            "         -2.6567e-01,  4.6832e-01,  1.6374e-01,  4.4083e-01, -5.4030e-01,\n",
            "         -1.5708e-01,  2.8875e-01,  1.2268e-01,  3.9924e-01],\n",
            "        [ 2.5283e-01, -5.5148e-01, -4.1608e-01,  5.1245e-01, -4.9415e-02,\n",
            "         -2.4634e-02, -3.5745e-01, -3.6161e-01, -3.9851e-01,  2.7011e-01,\n",
            "          1.5314e-01,  5.4753e-01,  4.2766e-01,  1.0010e-01,  4.6281e-01,\n",
            "          3.9440e-01,  2.7496e-01,  3.2301e-01,  2.0420e-01],\n",
            "        [-2.8314e-01,  1.6387e-01,  4.4689e-01,  2.3319e-02, -9.5817e-02,\n",
            "         -4.0209e-01, -1.3626e-04,  2.8730e-01,  8.7434e-03, -3.0688e-02,\n",
            "          2.1582e-01,  3.3754e-01,  4.7523e-01,  8.9123e-02, -1.8145e-01,\n",
            "         -1.6959e-01, -4.9419e-01, -3.8245e-01, -3.3976e-01],\n",
            "        [ 4.8208e-01,  3.5122e-01, -1.6467e-01,  4.7068e-01,  4.7993e-01,\n",
            "         -4.1881e-01, -1.5934e-01, -1.1916e-01, -4.2631e-01,  2.2479e-01,\n",
            "          9.6278e-02, -1.9190e-01,  4.8073e-01,  5.4343e-01, -3.7102e-01,\n",
            "          5.0168e-01,  4.7597e-01, -5.4419e-02, -2.9294e-01],\n",
            "        [-2.1386e-01,  1.1792e-01, -2.2913e-01, -2.7101e-01, -2.2685e-01,\n",
            "         -7.4887e-02, -1.3653e-01,  2.3060e-01,  4.2863e-01, -1.7836e-01,\n",
            "          3.8505e-01, -3.7995e-01,  1.2754e-03, -3.6086e-01,  4.9135e-01,\n",
            "          5.5068e-01,  1.0027e-01,  1.9229e-01,  1.3595e-01],\n",
            "        [ 2.6775e-01,  4.7409e-01,  1.1131e-01,  5.0952e-01,  8.2470e-02,\n",
            "          4.7001e-01,  9.8242e-02, -2.4474e-01, -3.5272e-01, -3.5571e-01,\n",
            "          1.7318e-01, -4.9541e-01,  4.8255e-01,  1.5551e-01, -5.0857e-01,\n",
            "          2.3183e-01, -2.2108e-01,  9.4659e-02,  1.4431e-01],\n",
            "        [ 2.6209e-02,  5.0665e-02,  2.7153e-01, -1.1710e-01,  2.2456e-01,\n",
            "         -4.1762e-02,  2.2483e-01,  5.4376e-01, -4.1186e-01,  5.2279e-01,\n",
            "          3.2347e-01, -5.5029e-01, -4.7469e-02, -2.8897e-01, -5.5141e-01,\n",
            "          2.2986e-01, -1.5655e-01, -1.9467e-01, -5.4643e-02],\n",
            "        [ 4.3974e-01,  1.8172e-02,  4.8274e-01,  3.8082e-01,  2.8526e-01,\n",
            "         -8.1098e-02, -4.2644e-01,  5.0623e-02,  1.9163e-01,  5.0099e-01,\n",
            "         -3.8695e-01, -1.1806e-01, -3.1124e-01, -2.8821e-01, -2.8135e-01,\n",
            "         -1.3904e-01,  1.8899e-01,  3.3591e-01, -7.9510e-02],\n",
            "        [ 2.9895e-01, -4.9716e-01,  1.2472e-01, -1.0175e-01, -3.3692e-01,\n",
            "         -1.7848e-01,  5.3466e-01,  3.1087e-01,  2.1355e-01, -3.8325e-02,\n",
            "          1.2396e-01,  3.8679e-01, -2.6195e-02, -1.6181e-01, -3.6950e-01,\n",
            "         -1.8365e-01, -5.9710e-02, -3.9079e-01, -9.1571e-02],\n",
            "        [ 5.8176e-02, -4.6248e-01,  5.3122e-01, -4.0459e-01,  4.2429e-01,\n",
            "         -3.1174e-01,  1.8254e-01, -7.5680e-02, -4.7487e-01, -2.6317e-01,\n",
            "         -1.5659e-01,  4.7895e-01,  3.9865e-02, -1.5300e-01, -5.3210e-01,\n",
            "         -5.3429e-01, -1.1275e-01, -3.3340e-01,  2.6929e-01]])), ('hidden1.bias', tensor([-0.1772, -0.0034, -0.1343,  0.0773, -0.2085, -0.2037, -0.0677,  0.1205,\n",
            "         0.1323, -0.1905,  0.2229, -0.1547,  0.0458,  0.1564, -0.2275,  0.1100,\n",
            "        -0.2185,  0.0733, -0.0662, -0.1117])), ('hidden2.weight', tensor([[ 0.1885, -0.3912,  0.1948,  0.0613,  0.1349,  0.1705,  0.2091,  0.3262,\n",
            "          0.0794, -0.3038, -0.0648,  0.3750,  0.5215, -0.0979,  0.4350,  0.1706,\n",
            "          0.1904,  0.2994, -0.5302, -0.0760],\n",
            "        [-0.1632,  0.4345,  0.1167,  0.4548, -0.3022,  0.3454, -0.2736,  0.1990,\n",
            "          0.2347, -0.4753,  0.1620,  0.1119, -0.1909, -0.5197,  0.0728, -0.1914,\n",
            "         -0.2612, -0.4014, -0.4153, -0.0124],\n",
            "        [ 0.3044,  0.5462,  0.2640, -0.2569,  0.0088, -0.0267,  0.0751, -0.0631,\n",
            "          0.1312, -0.0160, -0.0143, -0.0863,  0.1431, -0.3872, -0.4859, -0.3242,\n",
            "          0.3958,  0.3301, -0.3726,  0.0957],\n",
            "        [ 0.2534, -0.0235, -0.4526,  0.4031,  0.2981,  0.0244,  0.3862,  0.4281,\n",
            "         -0.4428,  0.4628, -0.2377,  0.2184, -0.3718, -0.5367,  0.1680, -0.4686,\n",
            "         -0.3866,  0.4074,  0.5274, -0.1845],\n",
            "        [-0.4925,  0.4405, -0.5153, -0.3203,  0.0047,  0.3868,  0.2414, -0.2164,\n",
            "         -0.0587,  0.1489, -0.3001,  0.3231,  0.2212, -0.3930,  0.4500, -0.1872,\n",
            "          0.4399,  0.2905,  0.4477,  0.1482],\n",
            "        [-0.0942,  0.3854, -0.3865,  0.0257,  0.0202,  0.1366, -0.4531, -0.2587,\n",
            "         -0.3174, -0.2170,  0.3298,  0.4053,  0.2101,  0.0623,  0.2017, -0.1903,\n",
            "          0.2395, -0.4485,  0.1981,  0.3220],\n",
            "        [-0.1483, -0.4697,  0.2263, -0.1090, -0.1186, -0.5144,  0.5195, -0.2205,\n",
            "          0.0054,  0.2818,  0.2785, -0.0479, -0.4328,  0.1336, -0.1799, -0.4736,\n",
            "          0.4277, -0.5046,  0.1400, -0.1004],\n",
            "        [ 0.1944,  0.1013, -0.5347,  0.0748,  0.1132,  0.1516,  0.0257,  0.0208,\n",
            "          0.1904, -0.3118, -0.5050,  0.3560, -0.4433, -0.4594,  0.4526, -0.4061,\n",
            "          0.2632,  0.4199,  0.4337,  0.3785],\n",
            "        [-0.1523,  0.0937, -0.3050, -0.4588,  0.0656,  0.1897,  0.3229,  0.5255,\n",
            "         -0.3216, -0.2315, -0.2282, -0.0237,  0.0997,  0.3080, -0.2928, -0.3477,\n",
            "         -0.2290,  0.0974,  0.5234,  0.3156],\n",
            "        [ 0.3315, -0.4634,  0.3616,  0.0088, -0.4272, -0.3813,  0.4837, -0.4541,\n",
            "          0.1803,  0.3108,  0.1767,  0.0241,  0.1569, -0.4669,  0.3218, -0.3323,\n",
            "         -0.5440, -0.0442,  0.0183,  0.2580],\n",
            "        [ 0.5421, -0.0585, -0.4711,  0.4883, -0.1411, -0.3692, -0.4030,  0.2318,\n",
            "         -0.0778,  0.1229, -0.4004, -0.5300, -0.3667,  0.3774, -0.3153,  0.1403,\n",
            "         -0.0585, -0.2426, -0.4470,  0.0674],\n",
            "        [-0.5453, -0.4754, -0.3373, -0.4746, -0.5314,  0.0559,  0.3901, -0.0322,\n",
            "         -0.0159,  0.3041, -0.1458,  0.3488,  0.3360, -0.2496,  0.4004,  0.5197,\n",
            "          0.3267,  0.0473, -0.3943, -0.2621],\n",
            "        [-0.2119,  0.2462, -0.4520,  0.3746,  0.0205, -0.3740, -0.3107, -0.3114,\n",
            "         -0.3294, -0.2479, -0.4229, -0.5242, -0.0499,  0.5453, -0.1806,  0.3331,\n",
            "          0.1639, -0.3518,  0.2652,  0.2204],\n",
            "        [-0.0752,  0.2411,  0.1656, -0.3461, -0.5368, -0.3189,  0.1267,  0.1197,\n",
            "         -0.3032, -0.0145,  0.1020, -0.1530, -0.0156,  0.1343,  0.0366,  0.4728,\n",
            "         -0.4951,  0.1458, -0.2299,  0.4718],\n",
            "        [ 0.1875, -0.0695, -0.3509, -0.0608, -0.3221,  0.4798,  0.2742,  0.2256,\n",
            "          0.4472,  0.4391, -0.1956,  0.2712,  0.1210, -0.4258,  0.1823,  0.2671,\n",
            "          0.0053, -0.0136, -0.3817, -0.1396],\n",
            "        [ 0.3721,  0.3084,  0.3812,  0.2401,  0.5160,  0.4439,  0.1242,  0.2381,\n",
            "          0.0076, -0.5096,  0.1842, -0.1450, -0.2485, -0.5164,  0.4651,  0.4257,\n",
            "          0.1021, -0.4412, -0.0566, -0.2083],\n",
            "        [ 0.1419, -0.4654, -0.4251, -0.3225,  0.2519, -0.3682,  0.1292,  0.2572,\n",
            "          0.1492, -0.4995, -0.1427,  0.2865, -0.0053,  0.0471,  0.2213, -0.4912,\n",
            "          0.4057,  0.5267, -0.4701, -0.4891],\n",
            "        [ 0.4524, -0.1232,  0.3264, -0.4226,  0.2758,  0.2922,  0.3179, -0.3470,\n",
            "         -0.5402,  0.0297, -0.3111, -0.2149, -0.2191, -0.0039, -0.3974, -0.1122,\n",
            "          0.3439, -0.5122, -0.3055,  0.2847],\n",
            "        [ 0.3061, -0.1315,  0.0407, -0.4467, -0.2981, -0.4381,  0.5068,  0.3624,\n",
            "         -0.1797, -0.3321, -0.1194,  0.2654,  0.0036, -0.2154, -0.4460, -0.2454,\n",
            "          0.4853,  0.3225,  0.4643, -0.1775],\n",
            "        [ 0.5061,  0.0984, -0.3079,  0.3996, -0.2676,  0.1191,  0.2346, -0.2492,\n",
            "         -0.2291, -0.0138,  0.0489, -0.1846, -0.1664, -0.1699,  0.4232, -0.0085,\n",
            "          0.3362,  0.3918, -0.3653, -0.0347]])), ('hidden2.bias', tensor([ 0.2230,  0.1478,  0.0144, -0.1339, -0.0045, -0.1698, -0.0490, -0.2206,\n",
            "         0.0262, -0.0582, -0.1030, -0.1247, -0.1944,  0.1436, -0.1718, -0.0371,\n",
            "        -0.0379,  0.0760, -0.0847,  0.1679])), ('hidden3.weight', tensor([[ 0.0653, -0.2329, -0.3259, -0.2322,  0.3970, -0.0384, -0.0480, -0.1138,\n",
            "          0.3655, -0.0347,  0.3346, -0.0683, -0.2748,  0.1589, -0.3596,  0.0303,\n",
            "         -0.2709, -0.2811,  0.1153,  0.1384],\n",
            "        [-0.2754,  0.0227,  0.2662, -0.1734,  0.0150,  0.2969, -0.3733, -0.4089,\n",
            "         -0.0600, -0.2512, -0.2042,  0.0415,  0.0737,  0.3543,  0.1467,  0.0865,\n",
            "         -0.1290, -0.0397,  0.3141, -0.2510],\n",
            "        [ 0.1380, -0.1959, -0.3162, -0.1754, -0.2280,  0.2801,  0.4116,  0.2379,\n",
            "          0.1220, -0.3247,  0.4102, -0.2515, -0.4107, -0.3791, -0.3120,  0.3110,\n",
            "          0.1898,  0.0054,  0.2635, -0.2994],\n",
            "        [-0.4177,  0.0172,  0.2919,  0.2622, -0.3044, -0.4238,  0.3476, -0.3124,\n",
            "          0.0765,  0.1441,  0.1547, -0.3295, -0.3992,  0.3674,  0.0071,  0.2541,\n",
            "          0.3350, -0.0017, -0.0697,  0.2805],\n",
            "        [ 0.3823, -0.0738, -0.2010, -0.3171,  0.2101, -0.3656,  0.1070, -0.1594,\n",
            "          0.3618, -0.0063,  0.2101,  0.2937, -0.3103, -0.4130, -0.0170, -0.3415,\n",
            "         -0.2865, -0.0039, -0.2039,  0.2739],\n",
            "        [-0.2800,  0.0632, -0.4107, -0.0274, -0.2530, -0.2036,  0.1657,  0.0278,\n",
            "          0.0407, -0.1363,  0.2447,  0.0642, -0.2459, -0.2743, -0.2935, -0.2239,\n",
            "         -0.2509,  0.1910,  0.1906,  0.0518],\n",
            "        [ 0.1022, -0.1089, -0.2109, -0.3895,  0.3226, -0.3939, -0.2832,  0.2751,\n",
            "          0.1050,  0.3030,  0.2964,  0.4068,  0.1596, -0.1444,  0.0931, -0.4230,\n",
            "          0.2469,  0.1775,  0.0901,  0.1404],\n",
            "        [-0.0554, -0.3368, -0.3557,  0.2233,  0.0647, -0.4244, -0.4239, -0.2574,\n",
            "         -0.1637, -0.4009,  0.3075,  0.2302,  0.2690, -0.1579,  0.2814,  0.1907,\n",
            "         -0.2054, -0.0953,  0.4050,  0.0955],\n",
            "        [ 0.0446,  0.1805, -0.0415,  0.3315, -0.1033, -0.0848, -0.0670, -0.1696,\n",
            "          0.4064,  0.1974,  0.1538,  0.2050, -0.1503, -0.0591,  0.1824,  0.1282,\n",
            "          0.1163,  0.0080,  0.0798,  0.3324],\n",
            "        [-0.3233, -0.0416,  0.4094,  0.2635,  0.1709,  0.1020, -0.2352,  0.0822,\n",
            "          0.0837, -0.1443, -0.3689, -0.2163,  0.1849, -0.1903, -0.2071, -0.0101,\n",
            "         -0.3986,  0.3229,  0.0550, -0.1671],\n",
            "        [ 0.2376,  0.1869,  0.0287, -0.2313, -0.0225,  0.3554,  0.0551, -0.0957,\n",
            "          0.3174,  0.0182, -0.2455,  0.3241,  0.1067, -0.2423, -0.0871,  0.3399,\n",
            "          0.1480,  0.3161, -0.0876, -0.0311],\n",
            "        [-0.0919, -0.1643, -0.0040, -0.2664,  0.1344,  0.2621, -0.0247,  0.0722,\n",
            "          0.4188,  0.3553,  0.1580,  0.1839,  0.1272,  0.0396, -0.2478, -0.4185,\n",
            "         -0.3377, -0.0621, -0.2664,  0.0384],\n",
            "        [ 0.0254,  0.3860, -0.0236,  0.0317, -0.1238, -0.0033,  0.1038,  0.3845,\n",
            "         -0.4246, -0.2131, -0.1190, -0.2351, -0.0014,  0.1230,  0.0997,  0.1782,\n",
            "          0.1765,  0.2603,  0.0992,  0.0152]])), ('hidden3.bias', tensor([-0.2054, -0.0218, -0.0425,  0.0107,  0.1703,  0.0868, -0.1791, -0.0306,\n",
            "         0.1465, -0.1807, -0.0778, -0.1979,  0.0996]))])\n",
            "Train Epoch: 0 [0/1894678 (0%)]\tLoss: 2.587772\n",
            "Train Epoch: 0 [100000/1894678 (5%)]\tLoss: 2.577775\n",
            "Train Epoch: 0 [200000/1894678 (11%)]\tLoss: 2.566736\n",
            "Train Epoch: 0 [300000/1894678 (16%)]\tLoss: 2.553304\n",
            "Train Epoch: 0 [400000/1894678 (21%)]\tLoss: 2.532471\n",
            "Train Epoch: 0 [500000/1894678 (26%)]\tLoss: 2.508715\n",
            "Train Epoch: 0 [600000/1894678 (32%)]\tLoss: 2.483060\n",
            "Train Epoch: 0 [700000/1894678 (37%)]\tLoss: 2.456621\n",
            "Train Epoch: 0 [800000/1894678 (42%)]\tLoss: 2.428805\n",
            "Train Epoch: 0 [900000/1894678 (47%)]\tLoss: 2.401783\n",
            "Train Epoch: 0 [1000000/1894678 (53%)]\tLoss: 2.374082\n",
            "Train Epoch: 0 [1100000/1894678 (58%)]\tLoss: 2.358859\n",
            "Train Epoch: 0 [1200000/1894678 (63%)]\tLoss: 2.330940\n",
            "Train Epoch: 0 [1300000/1894678 (68%)]\tLoss: 2.306876\n",
            "Train Epoch: 0 [1400000/1894678 (74%)]\tLoss: 2.281847\n",
            "Train Epoch: 0 [1500000/1894678 (79%)]\tLoss: 2.268116\n",
            "Train Epoch: 0 [1600000/1894678 (84%)]\tLoss: 2.242581\n",
            "Train Epoch: 0 [1700000/1894678 (89%)]\tLoss: 2.235943\n",
            "Train Epoch: 0 [1800000/1894678 (95%)]\tLoss: 2.233922\n",
            "OrderedDict([('hidden1.weight', tensor([[-0.1260, -0.4343, -0.2811, -0.4582, -0.3981, -0.5376, -0.3679, -0.2742,\n",
            "         -0.3317, -0.4220, -0.3619, -0.2652,  0.1176,  0.1057,  0.2045, -0.5401,\n",
            "          0.1074, -0.5593, -0.5999],\n",
            "        [-0.0634,  0.0682,  0.4969,  0.4087,  0.1428, -0.2133, -0.4270, -0.1218,\n",
            "          0.0877, -0.4827,  0.0317, -0.3830, -0.1577,  0.3262, -0.5660,  0.1031,\n",
            "          0.5824, -0.4644, -0.0046],\n",
            "        [-0.0555, -0.5145, -0.5371, -0.6926, -0.6612, -0.2144, -0.0487,  0.1052,\n",
            "         -0.0433,  0.1797, -0.2541,  0.3060, -0.0536,  0.3384,  0.1100, -0.0933,\n",
            "         -0.2188, -0.0882, -0.3221],\n",
            "        [ 0.1749, -0.4218,  0.3380, -0.2898, -0.7761, -0.2452, -0.2701,  0.2669,\n",
            "          0.5381,  0.4534, -0.5579,  0.3363,  0.2427, -0.4995, -0.5477,  0.1171,\n",
            "         -0.2975,  0.3653,  0.3819],\n",
            "        [-0.2991, -0.6050, -0.5479, -0.2475,  0.2326, -0.1899,  0.4336, -0.4316,\n",
            "         -0.5582, -0.1519, -0.2907, -0.4875, -0.5552, -0.3680, -0.0308, -0.0776,\n",
            "         -0.5358,  0.0408,  0.0712],\n",
            "        [-0.2549, -0.2571, -0.0396,  0.3569, -0.4045,  0.1271,  0.5342,  0.1025,\n",
            "         -0.0458,  0.6129, -0.3059,  0.2177, -0.1173,  0.5192, -0.0876, -0.1925,\n",
            "          0.4028,  0.2818, -0.2830],\n",
            "        [-0.0952, -0.0728,  0.3021, -0.4597, -0.6282,  0.3201, -0.3735, -0.0557,\n",
            "         -0.4324,  0.1089, -0.2977,  0.0797,  0.2744, -0.4501,  0.3945,  0.6330,\n",
            "         -0.1997, -0.2161, -0.0662],\n",
            "        [ 0.0431, -0.0792, -0.0371, -0.3824,  0.5026, -0.1678, -0.0136, -0.6745,\n",
            "         -0.3883, -0.2348, -0.3000,  0.0939, -0.2176,  0.6083,  0.6756, -0.0720,\n",
            "         -0.3223, -0.2381,  0.1378],\n",
            "        [-0.4741, -0.0686, -0.2332,  0.2900, -0.1449,  0.2303, -0.5108,  0.3178,\n",
            "         -0.5329, -0.2436, -0.4565, -0.5809, -0.0368,  0.0703, -0.3461,  0.1832,\n",
            "         -0.5162, -0.4455, -0.1800],\n",
            "        [-0.3623,  0.3226, -0.1649,  0.3456, -0.6294,  0.4820, -0.4013,  0.3864,\n",
            "         -0.1273, -0.2019,  0.4542,  0.1232,  0.0399,  0.5968, -0.6496,  0.6517,\n",
            "         -0.5133, -0.5918, -0.5471],\n",
            "        [-0.2049, -0.2767, -0.0871,  0.0661, -0.2022,  0.3001, -0.3762,  0.3067,\n",
            "          0.4049,  0.0837, -0.4322,  0.4938,  0.0226,  0.3554, -0.5185, -0.1839,\n",
            "          0.1823,  0.1753,  0.4946],\n",
            "        [ 0.1433, -0.7843, -0.3368,  0.3831, -0.2250,  0.1108, -0.4030, -0.4712,\n",
            "         -0.3569,  0.0684,  0.1001,  0.6207,  0.3508, -0.0287,  0.6887,  0.5591,\n",
            "          0.3396,  0.2109,  0.3241],\n",
            "        [-0.4095,  0.0736,  0.4311,  0.0356, -0.1805, -0.4030, -0.0081,  0.1609,\n",
            "         -0.1241, -0.2369,  0.1067,  0.2516,  0.4029,  0.1094, -0.1318, -0.1124,\n",
            "         -0.6057, -0.2646, -0.2503],\n",
            "        [ 0.3332,  0.2061, -0.2173,  0.6258,  0.5802, -0.4797, -0.0225, -0.2680,\n",
            "         -0.3607,  0.4115,  0.1872, -0.2316,  0.6205,  0.7066, -0.4446,  0.4565,\n",
            "          0.5408, -0.1691, -0.4627],\n",
            "        [-0.3041, -0.0772, -0.1612, -0.2262, -0.4238, -0.1233, -0.2436,  0.1403,\n",
            "          0.5618, -0.3842,  0.2470, -0.2388, -0.1832, -0.3233,  0.5742,  0.6655,\n",
            "          0.2414,  0.0621,  0.0029],\n",
            "        [ 0.1473,  0.5732, -0.0877,  0.6197, -0.0043,  0.2973,  0.0600, -0.3652,\n",
            "         -0.4871, -0.4614,  0.0341, -0.7504,  0.4255,  0.2203, -0.5925,  0.0104,\n",
            "         -0.3773,  0.0696, -0.0226],\n",
            "        [ 0.0940,  0.1431,  0.4354, -0.3013,  0.3199, -0.1556,  0.0538,  0.6115,\n",
            "         -0.3566,  0.3638,  0.3897, -0.7575, -0.0712, -0.4717, -0.6356,  0.2005,\n",
            "         -0.1226, -0.3677, -0.1329],\n",
            "        [ 0.5701,  0.1593,  0.6710,  0.5030,  0.4230, -0.2433, -0.4249,  0.1810,\n",
            "          0.3569,  0.3154, -0.2824,  0.0049, -0.3055, -0.2003, -0.4644,  0.0354,\n",
            "          0.3514,  0.1482, -0.0962],\n",
            "        [ 0.4633, -0.3701,  0.2633, -0.1580, -0.1744, -0.2607,  0.7138,  0.4752,\n",
            "          0.3918, -0.1830,  0.2474,  0.3953,  0.1613, -0.1198, -0.6260, -0.0729,\n",
            "          0.1158, -0.6025, -0.0174],\n",
            "        [ 0.2494, -0.2746,  0.6588, -0.3424,  0.5929, -0.3539,  0.2754,  0.1155,\n",
            "         -0.3214, -0.3913,  0.0399,  0.4882,  0.1429, -0.0366, -0.6734, -0.5014,\n",
            "          0.0364, -0.4589,  0.1845]])), ('hidden1.bias', tensor([-0.0639,  0.1255, -0.0014,  0.2287, -0.0616, -0.1848,  0.0866,  0.2759,\n",
            "         0.3053, -0.1796,  0.2072, -0.0875, -0.0337,  0.2300, -0.1158,  0.1987,\n",
            "        -0.0514,  0.2564,  0.1166,  0.0181])), ('hidden2.weight', tensor([[ 0.3834, -0.4048,  0.3194, -0.0548,  0.3557,  0.0617,  0.4003,  0.5259,\n",
            "          0.1991, -0.3166, -0.1256,  0.4058,  0.5621, -0.1523,  0.5015,  0.1288,\n",
            "          0.0669,  0.1876, -0.6411, -0.1330],\n",
            "        [-0.2054,  0.3584,  0.1960,  0.5182, -0.4115,  0.3520, -0.2024,  0.1556,\n",
            "          0.1726, -0.5770,  0.3079,  0.2223, -0.0744, -0.6397, -0.0032, -0.2730,\n",
            "         -0.1701, -0.3932, -0.2876,  0.1314],\n",
            "        [ 0.4208,  0.6042,  0.1250, -0.4264,  0.2093,  0.1218, -0.1398, -0.1012,\n",
            "          0.3713, -0.0529, -0.1551, -0.2415,  0.3232, -0.2426, -0.4882, -0.1208,\n",
            "          0.5965,  0.5268, -0.3330,  0.2780],\n",
            "        [ 0.3191, -0.2110, -0.3309,  0.3972,  0.2016,  0.0823,  0.4186,  0.5249,\n",
            "         -0.4849,  0.3759, -0.3596,  0.1886, -0.4032, -0.5440,  0.1457, -0.5628,\n",
            "         -0.1844,  0.3645,  0.5000, -0.0518],\n",
            "        [-0.4943,  0.6094, -0.7044, -0.3968,  0.0064,  0.1999,  0.2148, -0.3281,\n",
            "         -0.2376,  0.2273, -0.2323,  0.3395,  0.2385, -0.3472,  0.5794, -0.3632,\n",
            "          0.5326,  0.4608,  0.5423, -0.0093],\n",
            "        [-0.1429,  0.3173, -0.3804, -0.0835, -0.0725,  0.1834, -0.5093, -0.2068,\n",
            "         -0.3623, -0.2192,  0.2720,  0.3558,  0.1808,  0.0610,  0.1453, -0.1894,\n",
            "          0.3862, -0.5725,  0.1515,  0.3271],\n",
            "        [-0.1793, -0.5472,  0.2912, -0.0483, -0.1168, -0.4188,  0.5488, -0.2049,\n",
            "          0.0055,  0.3550,  0.2723, -0.1369, -0.3368,  0.2042, -0.1713, -0.5452,\n",
            "          0.4834, -0.6061,  0.2017,  0.0257],\n",
            "        [ 0.0401,  0.1095, -0.6360,  0.2168, -0.0393, -0.0661,  0.0757, -0.1477,\n",
            "          0.1510, -0.3940, -0.4156,  0.4003, -0.4092, -0.5661,  0.5830, -0.3784,\n",
            "          0.3098,  0.4822,  0.5891,  0.5722],\n",
            "        [-0.2971,  0.2660, -0.2860, -0.5560, -0.0767,  0.3292,  0.2225,  0.6210,\n",
            "         -0.5173, -0.2371, -0.1045, -0.1077, -0.0110,  0.4389, -0.4218, -0.3407,\n",
            "         -0.1339,  0.2599,  0.5989,  0.4093],\n",
            "        [ 0.1950, -0.2796,  0.2521,  0.2254, -0.5755, -0.3936,  0.4703, -0.6123,\n",
            "          0.0985,  0.3502,  0.3709,  0.0940,  0.1779, -0.5199,  0.4780, -0.3806,\n",
            "         -0.6268,  0.1436,  0.1990,  0.3337],\n",
            "        [ 0.3908,  0.1439, -0.4762,  0.7560, -0.2178, -0.2026, -0.5629,  0.3861,\n",
            "          0.1135,  0.3346, -0.2287, -0.3818, -0.2067,  0.5440, -0.1138,  0.3251,\n",
            "         -0.2130, -0.0204, -0.3077,  0.1584],\n",
            "        [-0.4879, -0.5384, -0.2763, -0.4636, -0.5066,  0.0059,  0.4797, -0.0547,\n",
            "         -0.0640,  0.2100, -0.1882,  0.2826,  0.2460, -0.3213,  0.2771,  0.4619,\n",
            "          0.1800, -0.0060, -0.5497, -0.3786],\n",
            "        [-0.0857,  0.2525, -0.3761,  0.3735, -0.0812, -0.3102, -0.3341, -0.2102,\n",
            "         -0.5093, -0.3703, -0.4488, -0.6306, -0.1598,  0.5582, -0.0111,  0.2620,\n",
            "          0.3815, -0.2797,  0.4757,  0.4524],\n",
            "        [-0.1962,  0.2449,  0.1863, -0.4752, -0.6411, -0.1819,  0.0127,  0.2050,\n",
            "         -0.0857,  0.1956,  0.0714, -0.1999,  0.1826,  0.2470, -0.0884,  0.6575,\n",
            "         -0.3934,  0.0473, -0.3778,  0.3964],\n",
            "        [ 0.3826, -0.0345, -0.1465, -0.1138, -0.2157,  0.5888,  0.4462,  0.4003,\n",
            "          0.6557,  0.5256, -0.1373,  0.3639,  0.2524, -0.3436,  0.1640,  0.3499,\n",
            "          0.0415,  0.0281, -0.3379, -0.1331],\n",
            "        [ 0.5540,  0.3549,  0.5777,  0.1706,  0.7203,  0.6568,  0.2419,  0.4208,\n",
            "          0.1820, -0.3712,  0.1987, -0.1313, -0.1439, -0.3402,  0.4088,  0.6545,\n",
            "          0.1342, -0.4529, -0.1459, -0.3114],\n",
            "        [ 0.2647, -0.5525, -0.3340, -0.4686,  0.4118, -0.4004,  0.1385,  0.2334,\n",
            "          0.2937, -0.6247, -0.2059,  0.0803,  0.1084, -0.0330,  0.0780, -0.5140,\n",
            "          0.2867,  0.4444, -0.6592, -0.7351],\n",
            "        [ 0.6466, -0.3096,  0.5058, -0.5304,  0.4785,  0.2385,  0.5193, -0.1801,\n",
            "         -0.3594, -0.0265, -0.4785, -0.4760, -0.0574, -0.0784, -0.6436, -0.2715,\n",
            "          0.3460, -0.7472, -0.4741,  0.2770],\n",
            "        [ 0.5082, -0.1447,  0.1906, -0.2450, -0.1444, -0.6018,  0.7144,  0.5423,\n",
            "         -0.0114, -0.3470,  0.0166,  0.4191,  0.1257, -0.3038, -0.2297, -0.1202,\n",
            "          0.7000,  0.3482,  0.6728,  0.0643],\n",
            "        [ 0.3433,  0.3157, -0.1108,  0.6817, -0.4529,  0.2994,  0.4170, -0.2098,\n",
            "         -0.2547,  0.1268,  0.2865,  0.0237, -0.1089,  0.0008,  0.4952,  0.1564,\n",
            "          0.1417,  0.5532, -0.1924, -0.1127]])), ('hidden2.bias', tensor([ 0.2891,  0.1879,  0.1601, -0.0717,  0.0282, -0.2132,  0.0444, -0.1027,\n",
            "         0.0198, -0.0106,  0.0818, -0.1847, -0.1970,  0.3084, -0.0409,  0.0686,\n",
            "        -0.0094,  0.1961,  0.1099,  0.2800])), ('hidden3.weight', tensor([[ 0.2731, -0.1030, -0.4983, -0.3259,  0.2199, -0.1316, -0.2290, -0.2490,\n",
            "          0.2118, -0.1930,  0.1958,  0.0048, -0.4010,  0.0090, -0.5318,  0.2516,\n",
            "         -0.3324, -0.4120, -0.0120,  0.0020],\n",
            "        [-0.1297, -0.1229,  0.5065, -0.4032, -0.1163,  0.2544, -0.6579, -0.5670,\n",
            "         -0.1871, -0.4638, -0.3427,  0.0103,  0.0067,  0.2402,  0.2819,  0.2624,\n",
            "         -0.2378,  0.1327,  0.4189, -0.4838],\n",
            "        [-0.0254, -0.3450, -0.4757, -0.2786, -0.2860,  0.2873,  0.4647,  0.0830,\n",
            "          0.0322, -0.3785,  0.2834, -0.2154, -0.5218, -0.3960, -0.3051,  0.1275,\n",
            "         -0.0041, -0.1921,  0.1012, -0.4757],\n",
            "        [-0.5428,  0.0585,  0.1348,  0.2291, -0.5149, -0.6002,  0.1831, -0.4350,\n",
            "         -0.0631,  0.0846,  0.3780, -0.2949, -0.5855,  0.5733,  0.2387,  0.1370,\n",
            "          0.1300, -0.2281, -0.2819,  0.3842],\n",
            "        [ 0.2755, -0.3099, -0.0045, -0.4691,  0.3663, -0.3775,  0.1059, -0.3166,\n",
            "          0.5569, -0.2419,  0.0660,  0.3062, -0.4933, -0.2490, -0.0839, -0.4966,\n",
            "         -0.2962, -0.2106, -0.3940,  0.4562],\n",
            "        [-0.4980,  0.2832, -0.6470,  0.1999, -0.0547, -0.0566,  0.4363,  0.2872,\n",
            "          0.0811,  0.0710,  0.0708,  0.0470, -0.4698, -0.4051, -0.5436, -0.2215,\n",
            "         -0.4246, -0.0059,  0.4482,  0.3045],\n",
            "        [ 0.1289, -0.3635, -0.4250, -0.2420,  0.3101, -0.4099, -0.3673,  0.3809,\n",
            "         -0.0665,  0.4501,  0.1455,  0.3592,  0.0267, -0.3097,  0.0283, -0.6263,\n",
            "          0.1214,  0.0203,  0.0904,  0.1019],\n",
            "        [ 0.0802, -0.5357, -0.2884,  0.3779, -0.1163, -0.4953, -0.6376, -0.4124,\n",
            "         -0.3003, -0.5377,  0.1075,  0.2588,  0.1482, -0.3405,  0.3879,  0.3283,\n",
            "         -0.2211,  0.0360,  0.6015, -0.0966],\n",
            "        [-0.1219, -0.0229, -0.2385,  0.1781, -0.2903,  0.0198, -0.2519, -0.3702,\n",
            "          0.5473,  0.0248,  0.2672,  0.1567, -0.0196,  0.0361, -0.0345, -0.0681,\n",
            "         -0.0153, -0.2005, -0.0996,  0.0988],\n",
            "        [-0.4947, -0.2546,  0.6080,  0.0705,  0.3111,  0.1193, -0.0669,  0.2161,\n",
            "          0.1396, -0.4021, -0.5861, -0.0597,  0.3311, -0.3747, -0.2983, -0.2345,\n",
            "         -0.3886,  0.0995,  0.2299, -0.1325],\n",
            "        [ 0.4071, -0.0244,  0.2033, -0.4874, -0.1744,  0.2701, -0.2046, -0.2925,\n",
            "          0.1791, -0.1754, -0.4259,  0.2356, -0.0064, -0.3654,  0.0148,  0.5220,\n",
            "          0.3559,  0.5237, -0.1268, -0.2964],\n",
            "        [ 0.0452, -0.3341, -0.0565, -0.4115, -0.0218,  0.1903, -0.1922, -0.1026,\n",
            "          0.2816,  0.1748,  0.0285,  0.1433,  0.0129, -0.0834, -0.3534, -0.4767,\n",
            "         -0.4249, -0.0587, -0.2977, -0.1491],\n",
            "        [ 0.0712,  0.1677,  0.1356, -0.0201, -0.2672, -0.1001,  0.4084,  0.1591,\n",
            "         -0.5373, -0.1146, -0.3386, -0.2063, -0.0786, -0.0222,  0.2912,  0.0695,\n",
            "         -0.1203,  0.4089,  0.1854, -0.1896]])), ('hidden3.bias', tensor([-0.2640, -0.0211, -0.1971,  0.2250,  0.1470,  0.3435, -0.2631, -0.0354,\n",
            "         0.1026, -0.3187, -0.0303, -0.2996,  0.3134]))])\n",
            "Train Epoch: 1 [0/1894678 (0%)]\tLoss: 2.228389\n",
            "Train Epoch: 1 [100000/1894678 (5%)]\tLoss: 2.214173\n",
            "Train Epoch: 1 [200000/1894678 (11%)]\tLoss: 2.204090\n",
            "Train Epoch: 1 [300000/1894678 (16%)]\tLoss: 2.187921\n",
            "Train Epoch: 1 [400000/1894678 (21%)]\tLoss: 2.187644\n",
            "Train Epoch: 1 [500000/1894678 (26%)]\tLoss: 2.178089\n",
            "Train Epoch: 1 [600000/1894678 (32%)]\tLoss: 2.164993\n",
            "Train Epoch: 1 [700000/1894678 (37%)]\tLoss: 2.155471\n",
            "Train Epoch: 1 [800000/1894678 (42%)]\tLoss: 2.162720\n",
            "Train Epoch: 1 [900000/1894678 (47%)]\tLoss: 2.135313\n",
            "Train Epoch: 1 [1000000/1894678 (53%)]\tLoss: 2.133666\n",
            "Train Epoch: 1 [1100000/1894678 (58%)]\tLoss: 2.132433\n",
            "Train Epoch: 1 [1200000/1894678 (63%)]\tLoss: 2.119198\n",
            "Train Epoch: 1 [1300000/1894678 (68%)]\tLoss: 2.119283\n",
            "Train Epoch: 1 [1400000/1894678 (74%)]\tLoss: 2.103909\n",
            "Train Epoch: 1 [1500000/1894678 (79%)]\tLoss: 2.098032\n",
            "Train Epoch: 1 [1600000/1894678 (84%)]\tLoss: 2.095265\n",
            "Train Epoch: 1 [1700000/1894678 (89%)]\tLoss: 2.080825\n",
            "Train Epoch: 1 [1800000/1894678 (95%)]\tLoss: 2.080608\n",
            "OrderedDict([('hidden1.weight', tensor([[-2.6021e-01, -5.4802e-01, -3.3059e-01, -5.5956e-01, -5.4448e-01,\n",
            "         -6.8102e-01, -3.8965e-01, -4.0848e-01, -3.6992e-01, -5.5367e-01,\n",
            "         -5.1586e-01, -3.3072e-01,  8.0300e-02, -1.7718e-02,  1.9620e-01,\n",
            "         -5.9196e-01,  4.6398e-02, -7.4122e-01, -7.8699e-01],\n",
            "        [ 1.9816e-02,  1.1078e-01,  5.5690e-01,  4.3757e-01,  1.6248e-01,\n",
            "         -3.0053e-01, -4.4339e-01, -3.8660e-02,  2.1539e-01, -3.7899e-01,\n",
            "          3.5930e-02, -3.9893e-01, -1.6181e-01,  3.3702e-01, -6.5092e-01,\n",
            "          4.9436e-02,  6.9749e-01, -5.4688e-01, -8.1114e-02],\n",
            "        [-2.5905e-01, -7.2872e-01, -6.0230e-01, -7.9689e-01, -8.3448e-01,\n",
            "         -3.5821e-01, -5.3156e-02, -9.8330e-02, -1.9848e-01,  1.0917e-01,\n",
            "         -3.8382e-01,  3.3892e-01, -1.2717e-01,  2.7302e-01,  4.3730e-02,\n",
            "         -3.8601e-02, -3.2288e-01,  7.9957e-03, -4.0745e-01],\n",
            "        [ 2.5808e-01, -6.6587e-01,  2.0213e-01, -4.3901e-01, -1.0056e+00,\n",
            "         -2.4650e-01, -4.3922e-01,  3.5000e-01,  6.4098e-01,  5.1513e-01,\n",
            "         -7.1634e-01,  3.7378e-01,  4.9850e-01, -6.3269e-01, -8.0226e-01,\n",
            "         -3.9013e-02, -2.2339e-01,  6.0701e-01,  5.9874e-01],\n",
            "        [-4.1387e-01, -7.7528e-01, -7.3902e-01, -2.5503e-01,  8.4920e-02,\n",
            "         -2.5683e-01,  4.4222e-01, -5.4642e-01, -6.9804e-01, -1.5731e-01,\n",
            "         -4.0321e-01, -7.3571e-01, -6.2630e-01, -3.7147e-01,  1.4600e-01,\n",
            "         -3.2359e-01, -6.8501e-01,  2.5225e-01,  6.9322e-02],\n",
            "        [-4.1272e-01, -4.2203e-01, -9.7335e-03,  4.2401e-01, -4.3892e-01,\n",
            "          3.6761e-03,  5.2929e-01, -5.5344e-02, -8.4722e-02,  7.1509e-01,\n",
            "         -3.9700e-01,  3.4415e-01, -1.2251e-01,  5.7178e-01, -2.3354e-01,\n",
            "         -1.1702e-01,  3.6394e-01,  2.2048e-01, -4.2505e-01],\n",
            "        [-3.5626e-01, -3.0850e-01,  4.5976e-01, -6.0833e-01, -8.4418e-01,\n",
            "          2.0157e-01, -4.9248e-01, -3.1673e-01, -5.5374e-01,  5.9411e-02,\n",
            "         -5.4974e-01,  2.5915e-01, -3.2517e-02, -5.9439e-01,  4.0368e-01,\n",
            "          8.3771e-01, -3.0158e-01, -3.9627e-01, -2.7141e-01],\n",
            "        [ 1.1010e-01, -8.1164e-02, -1.9755e-01, -4.2370e-01,  5.1272e-01,\n",
            "         -1.9333e-01,  5.0761e-04, -6.0750e-01, -3.5334e-01, -2.8338e-01,\n",
            "         -2.8974e-01, -1.0874e-01, -1.9360e-01,  6.0298e-01,  7.2506e-01,\n",
            "         -2.7240e-01, -3.4641e-01, -2.4335e-01,  1.5828e-01],\n",
            "        [-3.5359e-01,  1.9507e-01, -4.6097e-01,  3.6038e-01, -2.1195e-01,\n",
            "          1.5924e-01, -5.9309e-01,  4.3832e-01, -7.7512e-01, -1.9383e-01,\n",
            "         -6.5707e-01, -8.5176e-01, -2.8232e-01,  1.0724e-01, -4.9324e-01,\n",
            "         -8.3606e-02, -7.4066e-01, -3.9376e-01, -2.1812e-01],\n",
            "        [-2.7212e-01,  4.3162e-01, -8.4858e-02,  4.0865e-01, -6.8088e-01,\n",
            "          4.1868e-01, -4.2310e-01,  4.7659e-01, -2.2735e-01, -4.0346e-01,\n",
            "          4.5404e-01,  2.7185e-01,  1.6226e-02,  6.6065e-01, -8.7821e-01,\n",
            "          8.3516e-01, -6.0377e-01, -7.4143e-01, -6.0719e-01],\n",
            "        [-2.6855e-01, -3.5507e-01, -1.1664e-01,  7.4527e-02, -2.2615e-01,\n",
            "          4.2963e-01, -3.8778e-01,  2.4303e-01,  3.5271e-01,  1.0510e-01,\n",
            "         -4.7385e-01,  5.2508e-01,  7.9174e-03,  3.3941e-01, -6.6773e-01,\n",
            "         -1.8926e-01,  1.3359e-01,  3.2192e-01,  6.6141e-01],\n",
            "        [ 2.7274e-04, -7.9850e-01, -2.0413e-01,  3.7095e-01, -2.1972e-01,\n",
            "          1.4609e-01, -4.0846e-01, -6.1417e-01, -3.8493e-01,  6.0448e-02,\n",
            "          9.1800e-02,  7.1778e-01,  3.3973e-01, -4.2405e-02,  8.7259e-01,\n",
            "          7.0467e-01,  3.1267e-01,  2.1261e-01,  4.4679e-01],\n",
            "        [-5.2965e-01,  2.8780e-02,  4.1118e-01,  4.2138e-02, -2.4404e-01,\n",
            "         -5.4253e-01, -6.7771e-03,  4.0785e-02, -2.5278e-01, -3.1583e-01,\n",
            "          1.0598e-01,  3.4621e-01,  3.6446e-01,  1.1331e-01, -1.4353e-01,\n",
            "         -1.6031e-02, -7.0831e-01, -2.2213e-01, -3.2813e-01],\n",
            "        [ 3.7260e-01,  2.2945e-01, -2.2241e-01,  6.6866e-01,  6.4207e-01,\n",
            "         -5.5205e-01,  6.5354e-03, -2.2864e-01, -2.9546e-01,  3.9455e-01,\n",
            "          2.0354e-01, -3.0890e-01,  6.5123e-01,  7.5093e-01, -5.1866e-01,\n",
            "          4.0874e-01,  6.0220e-01, -2.4629e-01, -5.5314e-01],\n",
            "        [-3.0466e-01, -1.6241e-01, -2.0513e-01, -2.4996e-01, -4.9807e-01,\n",
            "         -2.1409e-02, -2.2577e-01,  1.3979e-01,  5.8078e-01, -4.9097e-01,\n",
            "          2.4637e-01, -1.7160e-01, -1.9428e-01, -3.4039e-01,  7.8773e-01,\n",
            "          6.9511e-01,  2.6366e-01,  2.8418e-02, -2.0063e-02],\n",
            "        [ 2.6083e-01,  7.4448e-01, -2.6663e-01,  6.4451e-01, -2.5369e-02,\n",
            "          1.7026e-01,  4.8033e-02, -2.5166e-01, -5.8906e-01, -4.0100e-01,\n",
            "          3.2830e-02, -1.0326e+00,  4.2772e-01,  2.2245e-01, -7.5730e-01,\n",
            "         -2.4305e-01, -5.1126e-01,  2.6682e-01, -1.9160e-02],\n",
            "        [ 1.5289e-01,  3.0397e-01,  5.4724e-01, -3.8398e-01,  4.7777e-01,\n",
            "         -2.1462e-01, -1.3151e-02,  6.7044e-01, -3.3947e-01,  2.7876e-01,\n",
            "          3.9248e-01, -7.8478e-01, -7.2128e-02, -5.4698e-01, -7.9190e-01,\n",
            "          3.0256e-01, -1.0370e-01, -5.2407e-01, -1.7594e-01],\n",
            "        [ 6.2248e-01,  2.2158e-01,  7.1870e-01,  5.0840e-01,  4.9932e-01,\n",
            "         -3.6300e-01, -4.7541e-01,  2.3336e-01,  3.7330e-01,  2.9827e-01,\n",
            "         -2.6021e-01,  5.7770e-02, -3.3252e-01, -1.9623e-01, -5.7142e-01,\n",
            "          1.0243e-01,  3.6253e-01,  2.9925e-02, -1.6571e-01],\n",
            "        [ 5.4604e-01, -2.6846e-01,  3.0739e-01, -2.6828e-01, -1.0113e-01,\n",
            "         -2.8932e-01,  7.5035e-01,  5.5795e-01,  4.5983e-01, -2.0571e-01,\n",
            "          2.4895e-01,  4.2736e-01,  2.0167e-01, -1.9530e-01, -8.7576e-01,\n",
            "         -1.3772e-02,  1.7895e-01, -8.0690e-01, -5.7058e-03],\n",
            "        [ 3.8850e-01, -1.5280e-01,  5.9363e-01, -4.5754e-01,  6.6528e-01,\n",
            "         -5.5651e-01,  2.7990e-01,  2.5465e-01, -2.8117e-01, -5.1160e-01,\n",
            "          4.6549e-02,  5.4501e-01,  1.5336e-01, -5.7284e-02, -9.7070e-01,\n",
            "         -5.3442e-01,  8.3702e-02, -7.1017e-01,  9.7445e-02]])), ('hidden1.bias', tensor([ 0.0102,  0.2106,  0.1095,  0.4086, -0.0572, -0.0381,  0.2022,  0.4092,\n",
            "         0.3490, -0.1379,  0.3825,  0.0042, -0.0604,  0.3039, -0.0985,  0.3193,\n",
            "        -0.0092,  0.3631,  0.2458,  0.2424])), ('hidden2.weight', tensor([[ 5.2407e-01, -4.4540e-01,  4.0779e-01,  3.0460e-02,  5.8861e-01,\n",
            "          7.7707e-03,  4.7439e-01,  7.1027e-01,  3.8345e-01, -3.9150e-01,\n",
            "         -1.3603e-01,  4.4929e-01,  6.0584e-01, -1.0312e-01,  4.9834e-01,\n",
            "          3.6309e-01,  5.5532e-02,  1.6452e-01, -7.5608e-01, -2.4130e-01],\n",
            "        [-4.2215e-01,  3.3934e-01,  3.4192e-01,  6.7961e-01, -1.1611e-01,\n",
            "          4.1661e-01, -1.7007e-01,  1.8973e-01,  2.8741e-01, -7.0099e-01,\n",
            "          4.4770e-01,  2.5198e-01, -2.2733e-01, -7.5893e-01, -2.8820e-02,\n",
            "          5.8503e-02, -4.0574e-01, -4.1345e-01, -2.8643e-01,  1.5314e-01],\n",
            "        [ 5.4906e-01,  6.3718e-01, -5.9470e-02, -6.2664e-01,  2.2528e-01,\n",
            "         -1.9877e-02, -3.4834e-01, -1.2770e-01,  6.1593e-01,  7.4857e-02,\n",
            "         -2.2138e-01, -4.0424e-01,  4.9213e-01, -2.8102e-01, -5.1522e-01,\n",
            "          6.4118e-02,  6.9884e-01,  5.8805e-01, -2.4637e-01,  4.2573e-01],\n",
            "        [ 4.6700e-01, -2.1578e-01, -1.4719e-01,  5.4777e-01,  5.8094e-02,\n",
            "          1.2037e-01,  6.3138e-01,  5.6868e-01, -5.2768e-01,  4.1432e-01,\n",
            "         -4.0462e-01,  2.7716e-01, -3.9089e-01, -5.4616e-01,  1.7198e-01,\n",
            "         -7.6290e-01, -1.3629e-01,  3.5451e-01,  6.1714e-01,  1.4042e-01],\n",
            "        [-3.9670e-01,  6.2329e-01, -7.1404e-01, -3.4708e-01,  4.1160e-02,\n",
            "          1.8197e-01,  1.5235e-01, -3.5510e-01, -3.1063e-01,  2.1222e-01,\n",
            "         -1.9358e-01,  3.7703e-01,  3.6076e-01, -4.6290e-01,  6.5825e-01,\n",
            "         -4.3834e-01,  6.0350e-01,  4.8894e-01,  6.2240e-01,  1.1582e-01],\n",
            "        [-1.5977e-01,  2.8825e-01, -3.1969e-01, -1.0668e-01, -7.7183e-02,\n",
            "          2.3867e-01, -4.4640e-01, -1.8375e-01, -3.6757e-01, -2.2159e-01,\n",
            "          2.7699e-01,  3.9296e-01,  1.7702e-01,  6.7507e-02,  1.0972e-01,\n",
            "         -1.7581e-01,  3.9844e-01, -6.1700e-01,  1.2181e-01,  3.0827e-01],\n",
            "        [-2.0762e-01, -7.9808e-01,  5.1873e-01,  6.5096e-02, -3.0679e-01,\n",
            "         -7.5073e-01,  7.9339e-01, -2.5481e-01, -1.3637e-01,  4.9756e-01,\n",
            "          2.0485e-01, -3.0257e-01, -1.2033e-01,  1.8396e-01, -2.9208e-01,\n",
            "         -8.1065e-01,  3.5155e-01, -7.7020e-01,  2.5502e-01,  1.3000e-01],\n",
            "        [-1.3794e-01,  1.3499e-01, -7.2974e-01,  2.4708e-01, -3.4047e-01,\n",
            "         -1.0025e-01, -2.0390e-02, -6.2122e-02,  2.6455e-01, -3.9080e-01,\n",
            "         -3.9586e-01,  3.8884e-01, -4.3564e-01, -5.3102e-01,  5.9445e-01,\n",
            "         -1.9016e-01,  3.9458e-01,  4.9090e-01,  6.5821e-01,  7.4412e-01],\n",
            "        [-2.7337e-01,  3.1594e-01, -2.9478e-01, -5.6099e-01, -1.8158e-01,\n",
            "          3.5514e-01,  2.9715e-01,  6.8128e-01, -4.9073e-01, -1.8475e-01,\n",
            "         -9.8334e-02, -7.2344e-03, -3.1559e-02,  4.6658e-01, -4.4211e-01,\n",
            "         -3.1104e-01,  1.1976e-01,  2.9891e-01,  6.7166e-01,  5.7742e-01],\n",
            "        [ 2.5120e-01, -3.0318e-01,  4.3872e-01,  3.6317e-01, -5.5472e-01,\n",
            "         -3.3920e-01,  6.6507e-01, -6.4097e-01,  1.8428e-01,  4.8630e-01,\n",
            "          4.5800e-01,  7.4480e-02,  3.9618e-01, -6.7301e-01,  4.9781e-01,\n",
            "         -7.0435e-01, -7.6305e-01,  1.3887e-01,  2.6642e-01,  4.7378e-01],\n",
            "        [ 3.4108e-01,  2.1654e-01, -4.8499e-01,  1.0267e+00, -2.1249e-03,\n",
            "         -1.7364e-01, -8.8694e-01,  4.2541e-01,  3.7668e-01,  3.7994e-01,\n",
            "         -1.3316e-01, -5.3088e-01, -3.7708e-01,  5.8263e-01,  1.2084e-02,\n",
            "          4.8614e-01, -1.7830e-01,  6.6805e-04, -1.3045e-01,  3.7642e-01],\n",
            "        [-4.9245e-01, -5.2136e-01, -1.6905e-01, -1.9983e-01, -5.7362e-01,\n",
            "          2.1564e-02,  7.4890e-01, -6.3598e-02, -6.3890e-02,  2.1862e-01,\n",
            "         -1.3453e-01,  3.4241e-01,  2.5862e-01, -3.2052e-01,  2.9039e-01,\n",
            "          4.6315e-01,  1.8001e-01,  9.5576e-02, -5.2921e-01, -2.9063e-01],\n",
            "        [ 2.1249e-01,  3.2477e-01, -3.8830e-01,  4.7649e-01, -1.2713e-01,\n",
            "         -2.9690e-01, -5.3506e-01, -1.2911e-01, -5.3076e-01, -4.1896e-01,\n",
            "         -4.1861e-01, -7.8737e-01, -1.7545e-01,  5.6511e-01,  1.4563e-02,\n",
            "          2.6038e-01,  4.1525e-01, -2.4025e-01,  5.6572e-01,  5.8016e-01],\n",
            "        [-3.5017e-01,  2.9662e-01,  1.7542e-01, -5.1819e-01, -8.3863e-01,\n",
            "         -1.7121e-01, -3.4439e-03,  2.1219e-01, -2.7810e-02,  2.4071e-01,\n",
            "          7.4632e-02, -2.5876e-01,  2.2271e-01,  2.7556e-01, -9.0739e-02,\n",
            "          6.8965e-01, -3.9929e-01,  8.2085e-02, -3.6184e-01,  3.8611e-01],\n",
            "        [ 4.5632e-01, -1.5884e-01, -1.3247e-01, -1.8185e-01, -4.4566e-01,\n",
            "          7.1331e-01,  5.0799e-01,  3.1462e-01,  6.4901e-01,  6.0638e-01,\n",
            "         -2.1180e-01,  4.0881e-01,  3.6506e-01, -3.7183e-01,  1.2125e-01,\n",
            "          2.1892e-01,  7.2194e-02, -7.4011e-02, -3.4788e-01, -1.7984e-01],\n",
            "        [ 6.4222e-01,  3.3606e-01,  7.3205e-01,  3.2264e-01,  9.2596e-01,\n",
            "          7.0367e-01,  2.0898e-01,  4.4927e-01,  2.7299e-01, -5.6670e-01,\n",
            "          2.9295e-01, -5.7276e-02, -1.8488e-01, -4.3577e-01,  4.9961e-01,\n",
            "          8.4846e-01, -7.6345e-02, -4.1139e-01, -3.1774e-01, -5.3713e-01],\n",
            "        [ 4.8981e-01, -5.6657e-01, -8.3028e-02, -6.8969e-01,  6.2104e-01,\n",
            "         -1.2050e-01,  3.7729e-01,  3.9368e-01,  4.0705e-01, -9.4464e-01,\n",
            "         -2.9462e-01, -9.6456e-02,  2.8754e-01, -4.6467e-02, -5.6851e-02,\n",
            "         -6.7934e-01,  3.3629e-02,  4.4441e-01, -9.2708e-01, -1.0567e+00],\n",
            "        [ 7.1162e-01, -5.8813e-01,  6.7641e-01, -6.6102e-01,  4.5030e-01,\n",
            "          6.8307e-02,  7.9562e-01, -2.4210e-01, -4.0008e-01,  1.3395e-01,\n",
            "         -7.0669e-01, -6.7921e-01,  1.2945e-01, -1.1332e-01, -8.4909e-01,\n",
            "         -6.2609e-01,  6.1010e-02, -8.3335e-01, -6.2194e-01,  8.5197e-02],\n",
            "        [ 6.4100e-01, -2.0899e-01,  1.4599e-01, -2.4312e-01, -2.5035e-01,\n",
            "         -6.7686e-01,  8.3301e-01,  5.4499e-01,  1.4219e-01, -2.8930e-01,\n",
            "         -1.1333e-02,  4.9865e-01,  1.2559e-01, -3.8414e-01, -1.9183e-01,\n",
            "         -2.1151e-02,  8.0882e-01,  2.9598e-01,  7.5819e-01,  2.2844e-01],\n",
            "        [ 2.0848e-01,  3.5436e-01,  3.9885e-02,  8.2446e-01, -5.0915e-01,\n",
            "          3.7770e-01,  6.3012e-01, -2.0820e-01, -3.3709e-01,  1.8530e-01,\n",
            "          3.4625e-01,  1.2565e-01, -9.6655e-02,  4.9349e-02,  5.3151e-01,\n",
            "          1.6700e-01,  9.1797e-02,  5.9664e-01, -1.3748e-01, -6.8631e-02]])), ('hidden2.bias', tensor([ 0.4298,  0.3361,  0.2320,  0.0807,  0.0528, -0.2154,  0.1532,  0.0030,\n",
            "         0.1219,  0.0994,  0.2870, -0.1716, -0.0568,  0.3587, -0.1443,  0.1035,\n",
            "        -0.0030,  0.1414,  0.1692,  0.3878])), ('hidden3.weight', tensor([[ 0.5730,  0.2371, -0.5155, -0.4435,  0.2279, -0.2190, -0.5930, -0.2543,\n",
            "          0.1956, -0.3878,  0.3326,  0.0313, -0.4222, -0.0040, -0.6153,  0.5529,\n",
            "         -0.3251, -0.5778, -0.0865,  0.1392],\n",
            "        [-0.0774, -0.4249,  0.7300, -0.7034, -0.1649,  0.2537, -0.9683, -0.7889,\n",
            "         -0.3128, -0.8125, -0.4068,  0.0101, -0.1767,  0.0993,  0.5260,  0.3730,\n",
            "         -0.5210, -0.0406,  0.5616, -0.7736],\n",
            "        [-0.0924, -0.5800, -0.5543, -0.2899, -0.2979,  0.2859,  0.3839,  0.0664,\n",
            "          0.0192, -0.4256,  0.1620, -0.2154, -0.5481, -0.4334, -0.3801,  0.0297,\n",
            "         -0.0504, -0.2544,  0.0302, -0.5755],\n",
            "        [-0.6267,  0.1086,  0.1420,  0.2780, -0.5554, -0.6652, -0.0275, -0.5214,\n",
            "         -0.1199,  0.1757,  0.3887, -0.2953, -0.6657,  0.6098,  0.2785,  0.0797,\n",
            "          0.0247, -0.3739, -0.4830,  0.4472],\n",
            "        [ 0.2124, -0.3989, -0.0137, -0.4701,  0.3860, -0.3900,  0.0979, -0.3328,\n",
            "          0.5651, -0.2872, -0.0010,  0.3061, -0.5655, -0.2734, -0.1178, -0.5838,\n",
            "         -0.3248, -0.2658, -0.4509,  0.4734],\n",
            "        [-0.6563,  0.3910, -0.8354,  0.2510, -0.0680, -0.0028,  0.6299,  0.3021,\n",
            "          0.0942,  0.1238, -0.1696, -0.0439, -0.6746, -0.4297, -0.6907, -0.3156,\n",
            "         -0.4657, -0.2409,  0.5147,  0.3329],\n",
            "        [ 0.2269, -0.5158, -0.5015, -0.2220,  0.3164, -0.4208, -0.3803,  0.4123,\n",
            "         -0.1309,  0.5254,  0.2508,  0.3730,  0.1550, -0.3616,  0.0969, -0.7835,\n",
            "          0.1167, -0.1633,  0.0114,  0.0915],\n",
            "        [ 0.0905, -0.7344, -0.4125,  0.6254, -0.1363, -0.4979, -0.7981, -0.4703,\n",
            "         -0.3558, -0.5610,  0.0553,  0.2404,  0.0388, -0.3936,  0.3717,  0.3412,\n",
            "         -0.2800, -0.0565,  0.7509, -0.0479],\n",
            "        [-0.1844, -0.1083, -0.3465,  0.1401, -0.3098,  0.0715, -0.4219, -0.4334,\n",
            "          0.5687, -0.0356,  0.2743,  0.1561,  0.0032,  0.0452, -0.0749, -0.1596,\n",
            "         -0.0438, -0.2561, -0.1985,  0.0809],\n",
            "        [-0.5760, -0.2899,  0.6233,  0.0329,  0.3212,  0.1252, -0.0745,  0.2235,\n",
            "          0.1615, -0.4847, -0.8341, -0.0596,  0.3413, -0.4674, -0.3160, -0.3086,\n",
            "         -0.4137,  0.0231,  0.2159, -0.1690],\n",
            "        [ 0.4735, -0.2942,  0.1910, -0.6907, -0.1793,  0.2683, -0.4592, -0.3180,\n",
            "          0.1696, -0.4294, -0.6897,  0.2350, -0.0342, -0.3808, -0.0792,  0.5624,\n",
            "          0.6207,  0.6775, -0.3342, -0.4918],\n",
            "        [ 0.1716, -0.5105,  0.3611, -0.5614, -0.0287,  0.1427, -0.5171,  0.1668,\n",
            "          0.3069,  0.0073,  0.1385,  0.1426,  0.1051, -0.0150, -0.0520, -0.3300,\n",
            "         -0.5587, -0.3593,  0.1286, -0.1013],\n",
            "        [-0.1371,  0.0107, -0.1005,  0.2226, -0.3678, -0.1257,  0.6822,  0.0517,\n",
            "         -0.6081,  0.1727, -0.6618, -0.4254, -0.1834, -0.0546,  0.3105, -0.2179,\n",
            "         -0.3616,  0.6306,  0.3029, -0.0783]])), ('hidden3.bias', tensor([-0.0769, -0.0314, -0.2490,  0.2164,  0.0722,  0.3375, -0.3075, -0.1428,\n",
            "         0.0420, -0.4309, -0.1922, -0.1009,  0.3671]))])\n",
            "Train Epoch: 2 [0/1894678 (0%)]\tLoss: 2.068808\n",
            "Train Epoch: 2 [100000/1894678 (5%)]\tLoss: 2.057578\n",
            "Train Epoch: 2 [200000/1894678 (11%)]\tLoss: 2.056283\n",
            "Train Epoch: 2 [300000/1894678 (16%)]\tLoss: 2.051222\n",
            "Train Epoch: 2 [400000/1894678 (21%)]\tLoss: 2.051817\n",
            "Train Epoch: 2 [500000/1894678 (26%)]\tLoss: 2.058066\n",
            "Train Epoch: 2 [600000/1894678 (32%)]\tLoss: 2.038224\n",
            "Train Epoch: 2 [700000/1894678 (37%)]\tLoss: 2.039858\n",
            "Train Epoch: 2 [800000/1894678 (42%)]\tLoss: 2.034373\n",
            "Train Epoch: 2 [900000/1894678 (47%)]\tLoss: 2.046618\n",
            "Train Epoch: 2 [1000000/1894678 (53%)]\tLoss: 2.030408\n",
            "Train Epoch: 2 [1100000/1894678 (58%)]\tLoss: 2.030724\n",
            "Train Epoch: 2 [1200000/1894678 (63%)]\tLoss: 2.029851\n",
            "Train Epoch: 2 [1300000/1894678 (68%)]\tLoss: 2.028615\n",
            "Train Epoch: 2 [1400000/1894678 (74%)]\tLoss: 2.033246\n",
            "Train Epoch: 2 [1500000/1894678 (79%)]\tLoss: 2.035485\n",
            "Train Epoch: 2 [1600000/1894678 (84%)]\tLoss: 2.028238\n",
            "Train Epoch: 2 [1700000/1894678 (89%)]\tLoss: 2.021397\n",
            "Train Epoch: 2 [1800000/1894678 (95%)]\tLoss: 2.028718\n",
            "OrderedDict([('hidden1.weight', tensor([[-2.7060e-01, -5.6191e-01, -3.9118e-01, -6.1992e-01, -5.5647e-01,\n",
            "         -7.6208e-01, -4.0297e-01, -4.1887e-01, -2.7869e-01, -6.6232e-01,\n",
            "         -4.9888e-01, -5.0282e-01,  2.4143e-01, -6.1664e-02,  1.5203e-01,\n",
            "         -7.2782e-01,  6.8120e-02, -9.0361e-01, -9.1477e-01],\n",
            "        [ 1.1489e-01,  2.0129e-01,  5.5687e-01,  4.6598e-01,  1.9973e-01,\n",
            "         -3.7160e-01, -4.5777e-01,  5.6413e-02,  2.8721e-01, -3.7740e-01,\n",
            "          4.0152e-02, -5.2177e-01, -1.5636e-01,  3.5050e-01, -7.2036e-01,\n",
            "         -6.6980e-02,  7.4521e-01, -6.2054e-01, -1.7679e-01],\n",
            "        [-4.0846e-01, -8.5779e-01, -6.4664e-01, -8.5323e-01, -9.3140e-01,\n",
            "         -4.7132e-01, -5.6347e-02, -2.4773e-01, -3.3434e-01,  4.4515e-02,\n",
            "         -4.7895e-01,  4.1585e-01, -2.0222e-01,  2.3458e-01,  7.0221e-02,\n",
            "          5.9984e-02, -4.1910e-01,  1.1236e-01, -4.7384e-01],\n",
            "        [ 3.4182e-01, -8.0528e-01,  2.2595e-01, -4.9445e-01, -1.1373e+00,\n",
            "         -2.5844e-01, -4.2616e-01,  4.3374e-01,  7.9317e-01,  5.3648e-01,\n",
            "         -7.0472e-01,  3.6699e-01,  7.0846e-01, -6.6742e-01, -9.5866e-01,\n",
            "         -9.9369e-02, -1.0606e-01,  5.6770e-01,  6.5017e-01],\n",
            "        [-4.7435e-01, -8.5275e-01, -8.2059e-01, -2.1421e-01,  4.4450e-02,\n",
            "         -3.4095e-01,  4.7446e-01, -6.0690e-01, -7.3072e-01, -1.0849e-01,\n",
            "         -4.2202e-01, -8.4595e-01, -5.1999e-01, -3.2529e-01,  1.7929e-01,\n",
            "         -4.3276e-01, -7.3539e-01,  4.0177e-01,  8.8453e-02],\n",
            "        [-4.2334e-01, -2.8703e-01,  1.7051e-02,  5.5054e-01, -3.5293e-01,\n",
            "         -1.0480e-01,  5.4262e-01, -6.5968e-02, -2.7714e-02,  7.7828e-01,\n",
            "         -3.8463e-01,  4.0137e-01, -1.0683e-01,  7.0731e-01, -3.5578e-01,\n",
            "         -8.8503e-02,  4.1429e-01,  1.0788e-01, -5.6403e-01],\n",
            "        [-4.7789e-01, -4.6489e-01,  5.0055e-01, -6.6632e-01, -9.8298e-01,\n",
            "          1.4576e-01, -5.1032e-01, -4.3837e-01, -6.2534e-01,  7.4455e-03,\n",
            "         -6.3680e-01,  3.3387e-01, -2.3391e-01, -6.4491e-01,  5.7900e-01,\n",
            "          9.1018e-01, -3.4167e-01, -4.6547e-01, -3.5346e-01],\n",
            "        [ 1.9958e-01, -5.5129e-02, -2.8036e-01, -4.4867e-01,  5.3556e-01,\n",
            "         -1.8675e-01,  7.6145e-03, -5.1802e-01, -2.5570e-01, -2.4289e-01,\n",
            "         -2.5232e-01, -2.4908e-01, -1.7171e-01,  6.0708e-01,  6.7124e-01,\n",
            "         -4.0425e-01, -3.0783e-01, -3.4571e-01,  8.6257e-02],\n",
            "        [-2.0862e-01,  3.6198e-01, -6.3674e-01,  3.6716e-01, -1.5604e-01,\n",
            "          1.2742e-01, -8.9607e-01,  5.8328e-01, -8.8552e-01, -6.5053e-02,\n",
            "         -7.3563e-01, -1.0420e+00, -3.6601e-01,  7.8724e-02, -6.1948e-01,\n",
            "         -2.7408e-01, -8.6768e-01, -3.5830e-01, -2.6197e-01],\n",
            "        [-1.4891e-01,  5.4436e-01, -6.1547e-02,  4.4753e-01, -6.9953e-01,\n",
            "          4.3937e-01, -4.2664e-01,  5.9980e-01, -2.6278e-01, -4.8184e-01,\n",
            "          4.5267e-01,  3.3535e-01,  1.1190e-03,  6.9637e-01, -1.0485e+00,\n",
            "          8.9356e-01, -6.3273e-01, -9.2624e-01, -6.9282e-01],\n",
            "        [-2.7701e-01, -3.6189e-01, -1.3744e-01,  9.8798e-02, -2.1750e-01,\n",
            "          4.4677e-01, -3.8644e-01,  2.3457e-01,  3.3975e-01,  1.0760e-01,\n",
            "         -4.8025e-01,  5.4937e-01,  5.1077e-03,  3.5921e-01, -8.0191e-01,\n",
            "         -1.8978e-01,  1.2559e-01,  2.8171e-01,  6.7813e-01],\n",
            "        [-1.0081e-02, -8.1657e-01, -1.8138e-01,  3.8292e-01, -2.2059e-01,\n",
            "          2.0390e-01, -4.1066e-01, -6.2452e-01, -4.0749e-01,  7.5898e-02,\n",
            "          8.9167e-02,  7.5517e-01,  3.3364e-01, -3.1359e-02,  1.0063e+00,\n",
            "          7.3178e-01,  2.8870e-01,  1.7669e-01,  5.2881e-01],\n",
            "        [-6.0583e-01,  1.1478e-01,  4.2221e-01,  3.4530e-02, -1.6615e-01,\n",
            "         -6.9419e-01, -1.8064e-02, -3.5386e-02, -3.6481e-01, -3.3959e-01,\n",
            "          1.0504e-01,  4.2574e-01,  3.0510e-01,  1.0148e-01, -9.3626e-02,\n",
            "          6.4436e-02, -7.7511e-01, -1.1315e-01, -4.2825e-01],\n",
            "        [ 3.3971e-01,  2.0828e-01, -2.4965e-01,  6.9674e-01,  6.6698e-01,\n",
            "         -6.6455e-01,  2.4768e-02, -2.6153e-01, -3.0539e-01,  3.8845e-01,\n",
            "          1.9844e-01, -3.2744e-01,  6.6838e-01,  7.7702e-01, -6.3409e-01,\n",
            "          3.8879e-01,  5.9242e-01, -3.6582e-01, -6.7332e-01],\n",
            "        [-2.6169e-01, -1.7084e-01, -1.9814e-01, -2.5998e-01, -5.0764e-01,\n",
            "          1.1989e-02, -1.5841e-01,  1.8276e-01,  6.1836e-01, -5.2445e-01,\n",
            "          2.4713e-01, -1.4543e-01, -1.9393e-01, -3.2447e-01,  9.5163e-01,\n",
            "          7.1267e-01,  2.9632e-01, -2.4051e-02, -6.5446e-02],\n",
            "        [ 3.6629e-01,  8.9686e-01, -3.6261e-01,  6.6151e-01, -6.2030e-04,\n",
            "          1.2627e-01,  2.9284e-02, -1.4620e-01, -5.6240e-01, -2.6676e-01,\n",
            "          3.0167e-02, -1.1713e+00,  4.3981e-01,  2.2709e-01, -9.3422e-01,\n",
            "         -3.7250e-01, -5.5213e-01,  2.7169e-01, -5.0126e-02],\n",
            "        [ 3.0129e-01,  4.5107e-01,  5.7280e-01, -4.6736e-01,  6.1725e-01,\n",
            "         -2.2123e-01, -1.8999e-01,  8.1884e-01, -2.7283e-01,  2.6270e-01,\n",
            "          4.0284e-01, -8.8071e-01, -1.7614e-02, -6.0516e-01, -9.5229e-01,\n",
            "          2.5808e-01, -4.6114e-02, -6.0028e-01, -1.5236e-01],\n",
            "        [ 6.7270e-01,  2.6506e-01,  7.3824e-01,  4.4377e-01,  5.4695e-01,\n",
            "         -4.3122e-01, -5.2229e-01,  2.8358e-01,  3.5972e-01,  3.0879e-01,\n",
            "         -1.9632e-01,  8.6932e-02, -3.5705e-01, -2.6066e-01, -6.3533e-01,\n",
            "          1.2514e-01,  3.4526e-01, -3.5444e-02, -2.1559e-01],\n",
            "        [ 6.5638e-01, -1.9286e-01,  3.5069e-01, -3.1700e-01, -4.9773e-02,\n",
            "         -2.7943e-01,  7.7171e-01,  6.6829e-01,  5.0720e-01, -2.0650e-01,\n",
            "          2.5265e-01,  4.2320e-01,  2.3336e-01, -2.1785e-01, -1.0235e+00,\n",
            "          6.1485e-03,  2.1575e-01, -9.5504e-01,  6.4747e-02],\n",
            "        [ 4.9925e-01, -5.9134e-02,  5.5657e-01, -5.5480e-01,  7.2125e-01,\n",
            "         -6.3386e-01,  2.7058e-01,  3.6539e-01, -3.0236e-01, -5.4844e-01,\n",
            "          5.1895e-02,  5.7125e-01,  1.5500e-01, -8.0143e-02, -1.1405e+00,\n",
            "         -5.3408e-01,  6.2956e-02, -8.5864e-01,  1.2115e-01]])), ('hidden1.bias', tensor([ 0.0679,  0.2804,  0.1858,  0.4149, -0.0542,  0.0842,  0.2148,  0.4545,\n",
            "         0.4689, -0.1212,  0.5265,  0.0434, -0.0101,  0.4189, -0.0460,  0.3691,\n",
            "        -0.0308,  0.4268,  0.1923,  0.3036])), ('hidden2.weight', tensor([[ 0.5917, -0.4187,  0.4131,  0.0417,  0.6481, -0.0187,  0.4442,  0.7812,\n",
            "          0.4607, -0.5305, -0.1637,  0.4507,  0.5361, -0.1247,  0.5059,  0.4189,\n",
            "          0.0961,  0.1834, -0.7897, -0.2780],\n",
            "        [-0.5451,  0.3693,  0.4533,  0.7682,  0.0313,  0.4930, -0.1174,  0.1984,\n",
            "          0.2867, -0.8596,  0.5343,  0.2694, -0.2074, -0.7001, -0.0132,  0.1157,\n",
            "         -0.6917, -0.3597, -0.3573,  0.0232],\n",
            "        [ 0.5364,  0.5963, -0.1716, -0.7441,  0.2468, -0.1954, -0.4337, -0.0813,\n",
            "          0.7431,  0.0925, -0.2713, -0.4179,  0.5294, -0.3277, -0.5308,  0.1716,\n",
            "          0.7655,  0.6010, -0.2570,  0.4901],\n",
            "        [ 0.6015, -0.1834, -0.1059,  0.6263, -0.0250,  0.0795,  0.6901,  0.5409,\n",
            "         -0.5973,  0.4473, -0.4403,  0.3224, -0.4247, -0.6114,  0.2021, -0.8580,\n",
            "         -0.0702,  0.4075,  0.7357,  0.2698],\n",
            "        [-0.4322,  0.6416, -0.7060, -0.3161,  0.0616,  0.1912,  0.1859, -0.4455,\n",
            "         -0.4527,  0.2239, -0.1740,  0.4280,  0.4126, -0.4922,  0.7003, -0.5014,\n",
            "          0.7521,  0.5243,  0.6795,  0.2053],\n",
            "        [-0.2312,  0.2943, -0.3128, -0.1097, -0.1089,  0.2736, -0.4474, -0.1582,\n",
            "         -0.3720, -0.2194,  0.2870,  0.4044,  0.1775,  0.0797,  0.1013, -0.1662,\n",
            "          0.3988, -0.6220,  0.1110,  0.2741],\n",
            "        [-0.2714, -0.9892,  0.6499,  0.0513, -0.3396, -0.9554,  0.9109, -0.3226,\n",
            "         -0.2655,  0.5470,  0.2196, -0.3889,  0.0049,  0.1171, -0.3689, -0.9277,\n",
            "          0.2183, -0.8638,  0.1603,  0.0783],\n",
            "        [-0.2220,  0.1397, -0.7949,  0.2794, -0.4843, -0.1158, -0.0787,  0.0442,\n",
            "          0.2182, -0.4233, -0.3835,  0.4009, -0.5059, -0.5116,  0.5838, -0.1578,\n",
            "          0.4816,  0.5088,  0.6926,  0.8445],\n",
            "        [-0.2780,  0.3468, -0.3484, -0.5810, -0.2934,  0.3782,  0.3120,  0.7376,\n",
            "         -0.4791, -0.1314, -0.0937,  0.0721, -0.0541,  0.4856, -0.4292, -0.2846,\n",
            "          0.2035,  0.3290,  0.7085,  0.6553],\n",
            "        [ 0.3101, -0.3496,  0.5935,  0.4164, -0.5188, -0.3459,  0.8371, -0.6303,\n",
            "          0.1691,  0.5654,  0.4865,  0.0643,  0.5191, -0.7654,  0.4864, -0.8626,\n",
            "         -0.8157,  0.1298,  0.2835,  0.5806],\n",
            "        [ 0.4328,  0.2660, -0.6379,  1.1038, -0.0204, -0.1635, -1.0539,  0.4729,\n",
            "          0.5279,  0.4176, -0.1190, -0.6477, -0.5333,  0.5999,  0.0595,  0.5752,\n",
            "         -0.0774, -0.0362, -0.0124,  0.5280],\n",
            "        [-0.2800, -0.5410, -0.1872, -0.1745, -0.3706,  0.0220,  0.8672,  0.0146,\n",
            "         -0.0691,  0.2264, -0.1195,  0.3857,  0.2764, -0.3248,  0.2988,  0.4629,\n",
            "          0.1785,  0.0743, -0.5230, -0.2631],\n",
            "        [ 0.3228,  0.3299, -0.4551,  0.5236, -0.2776, -0.3126, -0.5483, -0.1016,\n",
            "         -0.5861, -0.4510, -0.4291, -0.8209, -0.1929,  0.5579,  0.0221,  0.2367,\n",
            "          0.4516, -0.2344,  0.6021,  0.6565],\n",
            "        [-0.2489,  0.3356,  0.1698, -0.6488, -0.8450, -0.1687,  0.0448,  0.2654,\n",
            "          0.0580,  0.2786,  0.0798, -0.3518,  0.2666,  0.3019, -0.0938,  0.7218,\n",
            "         -0.2297,  0.0872, -0.3178,  0.5681],\n",
            "        [ 0.5086, -0.1810, -0.1915, -0.2321, -0.5317,  0.7571,  0.4474,  0.2979,\n",
            "          0.7024,  0.6422, -0.2448,  0.4031,  0.3737, -0.3557,  0.1049,  0.2528,\n",
            "          0.1333, -0.1119, -0.3179, -0.0802],\n",
            "        [ 0.6772,  0.4901,  0.7884,  0.3930,  0.9980,  0.7738,  0.1585,  0.4303,\n",
            "          0.3115, -0.6724,  0.3364, -0.0465, -0.2160, -0.4342,  0.6393,  0.9167,\n",
            "         -0.2123, -0.3306, -0.3413, -0.6473],\n",
            "        [ 0.5264, -0.6086,  0.0149, -0.7812,  0.7184,  0.2709,  0.4410,  0.4227,\n",
            "          0.4018, -1.1541, -0.3678, -0.2479,  0.3579, -0.0665, -0.1973, -0.7533,\n",
            "         -0.1505,  0.4444, -1.1128, -1.2339],\n",
            "        [ 0.6886, -0.8208,  0.7996, -0.7623,  0.4616, -0.1914,  0.9454, -0.3113,\n",
            "         -0.5083,  0.0559, -0.7680, -0.8132,  0.2502, -0.2313, -0.9896, -0.7903,\n",
            "         -0.1610, -1.1540, -0.8591, -0.1378],\n",
            "        [ 0.7771, -0.2356,  0.0514, -0.2608, -0.3417, -0.7314,  0.7858,  0.5962,\n",
            "          0.2267, -0.2509, -0.0381,  0.5523,  0.0458, -0.4453, -0.1605,  0.0822,\n",
            "          0.9204,  0.2409,  0.8491,  0.3560],\n",
            "        [ 0.2098,  0.3798,  0.1223,  0.8917, -0.5698,  0.4268,  0.7313, -0.2039,\n",
            "         -0.4257,  0.2364,  0.3695,  0.1732, -0.0822,  0.0758,  0.5619,  0.1451,\n",
            "          0.0703,  0.6307, -0.0836,  0.0154]])), ('hidden2.bias', tensor([ 0.4740,  0.3777,  0.2818,  0.0944,  0.0515, -0.2215,  0.1613,  0.0504,\n",
            "         0.1599,  0.1590,  0.3477, -0.1670, -0.0235,  0.4246, -0.1635,  0.1228,\n",
            "        -0.0056,  0.1121,  0.1702,  0.4222])), ('hidden3.weight', tensor([[ 6.4182e-01,  3.1542e-01, -5.1748e-01, -4.4722e-01,  2.8400e-01,\n",
            "         -2.2835e-01, -6.1830e-01, -1.9961e-01,  2.0320e-01, -4.2832e-01,\n",
            "          3.8359e-01,  1.2470e-01, -4.0297e-01,  8.3918e-04, -6.4456e-01,\n",
            "          6.0976e-01, -2.2146e-01, -6.8542e-01, -1.4878e-01,  2.1972e-01],\n",
            "        [-6.9702e-02, -3.8374e-01,  8.2910e-01, -9.0203e-01, -2.0543e-01,\n",
            "          2.5372e-01, -1.0358e+00, -9.5258e-01, -4.0802e-01, -9.8043e-01,\n",
            "         -3.0053e-01,  9.7920e-03, -2.9048e-01,  1.1665e-01,  6.0139e-01,\n",
            "          3.5493e-01, -7.0213e-01, -2.7154e-01,  5.9396e-01, -8.9646e-01],\n",
            "        [-1.0058e-01, -5.9116e-01, -5.6978e-01, -2.9737e-01, -3.0102e-01,\n",
            "          2.8582e-01,  3.6764e-01,  5.5263e-02,  1.4137e-02, -4.5183e-01,\n",
            "          1.4159e-01, -2.1539e-01, -5.5712e-01, -4.4362e-01, -3.8906e-01,\n",
            "          2.2020e-02, -5.3969e-02, -2.6004e-01,  1.3994e-02, -5.8785e-01],\n",
            "        [-6.3870e-01,  1.4327e-01,  2.3618e-01,  3.1041e-01, -5.8941e-01,\n",
            "         -7.0984e-01,  2.3677e-02, -5.8669e-01, -1.1621e-01,  2.9562e-01,\n",
            "          4.0831e-01, -2.7417e-01, -6.8571e-01,  6.3582e-01,  3.0020e-01,\n",
            "          9.0245e-02, -1.9948e-03, -4.1118e-01, -5.5376e-01,  4.8376e-01],\n",
            "        [ 1.9200e-01, -4.1340e-01, -2.4138e-02, -4.1184e-01,  3.9649e-01,\n",
            "         -4.0362e-01,  9.7048e-02, -3.4149e-01,  5.6827e-01, -2.6938e-01,\n",
            "         -4.1549e-02,  3.0603e-01, -6.2619e-01, -2.8186e-01, -1.1683e-01,\n",
            "         -6.1060e-01, -3.2720e-01, -2.7058e-01, -4.6876e-01,  4.8659e-01],\n",
            "        [-6.9503e-01,  4.1840e-01, -8.9900e-01,  2.7334e-01, -7.5499e-02,\n",
            "          1.8252e-02,  7.6215e-01,  3.0052e-01,  7.4975e-02,  1.5694e-01,\n",
            "         -2.2375e-01, -1.1607e-01, -7.3045e-01, -4.4241e-01, -7.1284e-01,\n",
            "         -3.8673e-01, -4.7529e-01, -3.0410e-01,  5.3241e-01,  3.4135e-01],\n",
            "        [ 2.1702e-01, -5.5407e-01, -5.5137e-01, -2.0580e-01,  3.1787e-01,\n",
            "         -4.2365e-01, -3.9137e-01,  4.2047e-01, -1.6870e-01,  5.4765e-01,\n",
            "          2.4786e-01,  4.0139e-01,  1.8509e-01, -4.1584e-01,  1.0617e-01,\n",
            "         -8.1751e-01,  1.3204e-01, -1.8839e-01, -7.1475e-03,  7.9328e-02],\n",
            "        [ 5.2959e-02, -1.0659e+00, -3.4666e-01,  8.2171e-01, -1.5009e-01,\n",
            "         -5.0070e-01, -1.0921e+00, -5.5847e-01, -4.2495e-01, -6.0165e-01,\n",
            "          1.8664e-01,  3.9861e-01, -6.1343e-02, -5.5026e-01,  4.0540e-01,\n",
            "          3.7243e-01, -5.2100e-01, -2.3020e-01,  8.7724e-01,  7.2524e-03],\n",
            "        [-1.9591e-01, -1.2036e-01, -4.1317e-01,  1.2679e-01, -3.2606e-01,\n",
            "          9.7608e-02, -4.4484e-01, -4.9641e-01,  5.8588e-01, -4.7913e-02,\n",
            "          2.9006e-01,  1.5443e-01,  2.1278e-02,  6.2586e-02, -9.0108e-02,\n",
            "         -1.5732e-01, -4.8036e-02, -2.6364e-01, -2.6466e-01,  1.0039e-01],\n",
            "        [-6.2770e-01, -2.9132e-01,  6.7481e-01,  2.8852e-02,  3.4748e-01,\n",
            "          1.3967e-01, -7.5017e-02,  2.6398e-01,  2.8993e-01, -5.2126e-01,\n",
            "         -9.2852e-01, -5.9528e-02,  3.9266e-01, -4.9994e-01, -3.2421e-01,\n",
            "         -3.1896e-01, -4.1532e-01,  1.6982e-02,  2.4149e-01, -1.6292e-01],\n",
            "        [ 5.1567e-01, -1.2670e-01,  1.0615e-01, -7.7778e-01, -1.8008e-01,\n",
            "          2.6820e-01, -5.1927e-01, -3.2600e-01,  1.6688e-01, -5.0344e-01,\n",
            "         -8.5828e-01,  9.3296e-03, -4.0455e-02, -4.1637e-01, -1.7777e-01,\n",
            "          6.1880e-01,  7.5830e-01,  8.0985e-01, -4.6260e-01, -5.5802e-01],\n",
            "        [ 2.8808e-01, -5.5248e-01,  4.3172e-01, -7.4466e-01, -1.7473e-01,\n",
            "          8.6576e-02, -6.3904e-01,  2.6015e-01,  2.9278e-01, -1.2356e-01,\n",
            "          1.7168e-01,  1.4125e-01,  1.1715e-01, -9.0524e-03, -1.9352e-02,\n",
            "         -5.6543e-01, -6.9049e-01, -5.2457e-01,  2.1560e-01, -2.5237e-01],\n",
            "        [-2.1438e-01, -6.0332e-02, -2.4408e-01,  3.0191e-01, -4.4302e-01,\n",
            "         -1.2758e-01,  7.9347e-01,  1.2871e-02, -6.8489e-01,  2.7711e-01,\n",
            "         -8.4436e-01, -6.9849e-01, -2.1566e-01, -5.6309e-02,  3.1657e-01,\n",
            "         -3.1440e-01, -3.9616e-01,  8.0433e-01,  2.9680e-01, -5.0148e-02]])), ('hidden3.bias', tensor([-0.0446, -0.0499, -0.2536,  0.2369,  0.0487,  0.3350, -0.3290, -0.1748,\n",
            "         0.0236, -0.4677, -0.2210, -0.0498,  0.3469]))])\n",
            "Train Epoch: 3 [0/1894678 (0%)]\tLoss: 2.020826\n",
            "Train Epoch: 3 [100000/1894678 (5%)]\tLoss: 2.021036\n",
            "Train Epoch: 3 [200000/1894678 (11%)]\tLoss: 2.019652\n",
            "Train Epoch: 3 [300000/1894678 (16%)]\tLoss: 2.018991\n",
            "Train Epoch: 3 [400000/1894678 (21%)]\tLoss: 2.021721\n",
            "Train Epoch: 3 [500000/1894678 (26%)]\tLoss: 2.016697\n",
            "Train Epoch: 3 [600000/1894678 (32%)]\tLoss: 2.023400\n",
            "Train Epoch: 3 [700000/1894678 (37%)]\tLoss: 2.012096\n",
            "Train Epoch: 3 [800000/1894678 (42%)]\tLoss: 2.017702\n",
            "Train Epoch: 3 [900000/1894678 (47%)]\tLoss: 2.013473\n",
            "Train Epoch: 3 [1000000/1894678 (53%)]\tLoss: 2.014127\n",
            "Train Epoch: 3 [1100000/1894678 (58%)]\tLoss: 2.015684\n",
            "Train Epoch: 3 [1200000/1894678 (63%)]\tLoss: 2.015677\n",
            "Train Epoch: 3 [1300000/1894678 (68%)]\tLoss: 2.016409\n",
            "Train Epoch: 3 [1400000/1894678 (74%)]\tLoss: 2.011178\n",
            "Train Epoch: 3 [1500000/1894678 (79%)]\tLoss: 2.008034\n",
            "Train Epoch: 3 [1600000/1894678 (84%)]\tLoss: 2.003376\n",
            "Train Epoch: 3 [1700000/1894678 (89%)]\tLoss: 2.007744\n",
            "Train Epoch: 3 [1800000/1894678 (95%)]\tLoss: 2.009911\n"
          ],
          "name": "stdout"
        }
      ]
    },
    {
      "cell_type": "code",
      "metadata": {
        "colab": {
          "base_uri": "https://localhost:8080/"
        },
        "id": "VcRFCn7LKhbJ",
        "outputId": "3d1c4075-c35e-4651-d33e-8d660fc4b7ad"
      },
      "source": [
        "!pip install shap"
      ],
      "execution_count": null,
      "outputs": [
        {
          "output_type": "stream",
          "text": [
            "Requirement already satisfied: shap in /usr/local/lib/python3.7/dist-packages (0.39.0)\n",
            "Requirement already satisfied: cloudpickle in /usr/local/lib/python3.7/dist-packages (from shap) (1.3.0)\n",
            "Requirement already satisfied: numpy in /usr/local/lib/python3.7/dist-packages (from shap) (1.19.5)\n",
            "Requirement already satisfied: tqdm>4.25.0 in /usr/local/lib/python3.7/dist-packages (from shap) (4.41.1)\n",
            "Requirement already satisfied: slicer==0.0.7 in /usr/local/lib/python3.7/dist-packages (from shap) (0.0.7)\n",
            "Requirement already satisfied: numba in /usr/local/lib/python3.7/dist-packages (from shap) (0.51.2)\n",
            "Requirement already satisfied: scipy in /usr/local/lib/python3.7/dist-packages (from shap) (1.4.1)\n",
            "Requirement already satisfied: pandas in /usr/local/lib/python3.7/dist-packages (from shap) (1.1.5)\n",
            "Requirement already satisfied: scikit-learn in /usr/local/lib/python3.7/dist-packages (from shap) (0.22.2.post1)\n",
            "Requirement already satisfied: llvmlite<0.35,>=0.34.0.dev0 in /usr/local/lib/python3.7/dist-packages (from numba->shap) (0.34.0)\n",
            "Requirement already satisfied: setuptools in /usr/local/lib/python3.7/dist-packages (from numba->shap) (57.0.0)\n",
            "Requirement already satisfied: python-dateutil>=2.7.3 in /usr/local/lib/python3.7/dist-packages (from pandas->shap) (2.8.1)\n",
            "Requirement already satisfied: pytz>=2017.2 in /usr/local/lib/python3.7/dist-packages (from pandas->shap) (2018.9)\n",
            "Requirement already satisfied: joblib>=0.11 in /usr/local/lib/python3.7/dist-packages (from scikit-learn->shap) (1.0.1)\n",
            "Requirement already satisfied: six>=1.5 in /usr/local/lib/python3.7/dist-packages (from python-dateutil>=2.7.3->pandas->shap) (1.15.0)\n"
          ],
          "name": "stdout"
        }
      ]
    },
    {
      "cell_type": "code",
      "metadata": {
        "id": "QQdYZ_NJWVcz"
      },
      "source": [
        "import shap"
      ],
      "execution_count": null,
      "outputs": []
    },
    {
      "cell_type": "code",
      "metadata": {
        "id": "lip7ZGHsjakT",
        "colab": {
          "base_uri": "https://localhost:8080/"
        },
        "outputId": "e1586680-1012-4356-b185-d3149d31bd93"
      },
      "source": [
        "df = pd.read_csv(IDS2017URL)\n",
        "df.loc[df['Label'].isin([ 'Web Attack - Sql Injection','Web Attack - XSS', 'Web Attack - Brute Force']), 'Label'] = 'Web Attack'\n",
        "df = df[['Fwd Packet Length Mean', 'Fwd Packet Length Std', 'Flow IAT Max', 'Bwd Packet Length Std', 'Fwd Packet Length Max', 'Flow Bytes/s', 'Total Length of Bwd Packets', 'Fwd Packet Length Mean', 'Flow Duration', 'Flow IAT Min', 'Total Length of Fwd Packets', 'Flow IAT Mean', 'Total Backward Packets', 'Bwd Packet Length Max', 'Flow Packets/s', 'Flow IAT Std', 'Fwd IAT Total', 'Bwd Packet Length Min', 'Fwd Packet Length Min', 'Label']]\n",
        "#df = df[~df['Label'].isin(['Heartbleed', 'Web Attack - Sql Injection', 'Infiltration', 'Web Attack - XSS', 'Web Attack - Brute Force'])]\n",
        "df = df.replace([-np.inf, np.inf], np.nan)\n",
        "df = df.dropna()\n"
      ],
      "execution_count": null,
      "outputs": [
        {
          "output_type": "stream",
          "text": [
            "Columns (84) have mixed types.Specify dtype option on import or set low_memory=False.\n"
          ],
          "name": "stderr"
        }
      ]
    },
    {
      "cell_type": "code",
      "metadata": {
        "id": "bLoUX827m9Op",
        "colab": {
          "base_uri": "https://localhost:8080/"
        },
        "outputId": "b5ef4299-9187-4911-8b35-d1ab65f0a8b1"
      },
      "source": [
        "train_dl"
      ],
      "execution_count": null,
      "outputs": [
        {
          "output_type": "execute_result",
          "data": {
            "text/plain": [
              "<torch.utils.data.dataloader.DataLoader at 0x7ff431ad6150>"
            ]
          },
          "metadata": {
            "tags": []
          },
          "execution_count": 63
        }
      ]
    },
    {
      "cell_type": "code",
      "metadata": {
        "id": "vvZA4qe7iltZ"
      },
      "source": [
        "train_iter = iter(train_dl)"
      ],
      "execution_count": null,
      "outputs": []
    },
    {
      "cell_type": "code",
      "metadata": {
        "id": "WDglR9z6jra4"
      },
      "source": [
        "images, labels = train_iter.next()"
      ],
      "execution_count": null,
      "outputs": []
    },
    {
      "cell_type": "code",
      "metadata": {
        "id": "aqxZl_M2nvo9"
      },
      "source": [
        "px =images.numpy()\n",
        "#px = pd.DataFrame(px)"
      ],
      "execution_count": null,
      "outputs": []
    },
    {
      "cell_type": "code",
      "metadata": {
        "id": "QMvjsGCun_Dp",
        "colab": {
          "base_uri": "https://localhost:8080/"
        },
        "outputId": "8316d26a-c644-49e2-9ac6-de72e54cbb65"
      },
      "source": [
        "px"
      ],
      "execution_count": null,
      "outputs": [
        {
          "output_type": "execute_result",
          "data": {
            "text/plain": [
              "array([[-0.04031876,  0.24790996,  3.0775502 , ...,  2.0840452 ,\n",
              "        -0.5965232 , -0.3103172 ],\n",
              "       [ 1.1709589 ,  0.6973446 ,  0.6378463 , ...,  3.1111472 ,\n",
              "        -0.5094167 , -0.21090591],\n",
              "       [ 0.20068811,  0.25261894, -0.28816977, ..., -0.1553178 ,\n",
              "        -0.5965232 , -0.3103172 ],\n",
              "       ...,\n",
              "       [-0.27293015,  0.20285605, -0.29409012, ...,  3.1111472 ,\n",
              "        -0.5965232 , -0.3103172 ],\n",
              "       [ 0.02548014, -0.24519348, -0.37466913, ..., -0.43161044,\n",
              "         1.1891608 ,  0.7335013 ],\n",
              "       [-0.30217156, -0.24519348, -0.37563047, ..., -0.43161044,\n",
              "        -0.5094167 , -0.2771801 ]], dtype=float32)"
            ]
          },
          "metadata": {
            "tags": []
          },
          "execution_count": 67
        }
      ]
    },
    {
      "cell_type": "code",
      "metadata": {
        "id": "hVA9XCbioRId",
        "colab": {
          "base_uri": "https://localhost:8080/"
        },
        "outputId": "9d19d68d-3095-47d7-ce96-bf605af2555c"
      },
      "source": [
        "px[:1]"
      ],
      "execution_count": null,
      "outputs": [
        {
          "output_type": "execute_result",
          "data": {
            "text/plain": [
              "array([[-4.0318765e-02,  2.4790996e-01,  3.0775502e+00,  1.6893811e+00,\n",
              "         2.5949949e-01, -5.7500731e-02, -2.0245372e-03, -4.0318765e-02,\n",
              "         2.0744755e+00, -5.5066310e-02, -1.4387176e-02,  1.1554755e+00,\n",
              "        -4.4132550e-03,  1.7832514e+00, -2.7849650e-01,  2.5440092e+00,\n",
              "         2.0840452e+00, -5.9652323e-01, -3.1031719e-01]], dtype=float32)"
            ]
          },
          "metadata": {
            "tags": []
          },
          "execution_count": 68
        }
      ]
    },
    {
      "cell_type": "code",
      "metadata": {
        "id": "ZrTPCIRC6o2m"
      },
      "source": [
        "e = shap.DeepExplainer(\n",
        "        model, \n",
        "        torch.from_numpy(\n",
        "            px[np.random.choice(np.arange(len(px)), 10000, replace=False)]\n",
        "        ))"
      ],
      "execution_count": null,
      "outputs": []
    },
    {
      "cell_type": "code",
      "metadata": {
        "colab": {
          "base_uri": "https://localhost:8080/"
        },
        "id": "i27zT46T7XeD",
        "outputId": "4d4aeb67-1312-4955-9e5d-dcaecd3b9580"
      },
      "source": [
        "x_samples = px[np.random.choice(np.arange(len(px)), 300, replace=False)]\n",
        "print(len(x_samples))\n",
        "shap_values = e.shap_values(\n",
        "    torch.from_numpy(x_samples)\n",
        ")"
      ],
      "execution_count": null,
      "outputs": [
        {
          "output_type": "stream",
          "text": [
            "300\n"
          ],
          "name": "stdout"
        },
        {
          "output_type": "stream",
          "text": [
            "Using a non-full backward hook when the forward contains multiple autograd Nodes is deprecated and will be removed in future versions. This hook will be missing some grad_input. Please use register_full_backward_hook to get the documented behavior.\n"
          ],
          "name": "stderr"
        }
      ]
    },
    {
      "cell_type": "code",
      "metadata": {
        "colab": {
          "base_uri": "https://localhost:8080/"
        },
        "id": "t9eDXLTDjx59",
        "outputId": "c33565ac-d500-40a4-d6a2-9862c75e1866"
      },
      "source": [
        " np.mean(np.abs(shap_values), axis=0).shape"
      ],
      "execution_count": null,
      "outputs": [
        {
          "output_type": "execute_result",
          "data": {
            "text/plain": [
              "(300, 19)"
            ]
          },
          "metadata": {
            "tags": []
          },
          "execution_count": 70
        }
      ]
    },
    {
      "cell_type": "code",
      "metadata": {
        "colab": {
          "base_uri": "https://localhost:8080/"
        },
        "id": "YxlfWFGLnDcD",
        "outputId": "943be78f-04a5-4c90-aac2-ee4229aa1f5e"
      },
      "source": [
        "len(shap_values) # class"
      ],
      "execution_count": null,
      "outputs": [
        {
          "output_type": "execute_result",
          "data": {
            "text/plain": [
              "13"
            ]
          },
          "metadata": {
            "tags": []
          },
          "execution_count": 71
        }
      ]
    },
    {
      "cell_type": "code",
      "metadata": {
        "colab": {
          "base_uri": "https://localhost:8080/"
        },
        "id": "jA4kGv4Klg3Q",
        "outputId": "49c645fe-b280-4e39-9bbf-c7ab98c58cf4"
      },
      "source": [
        "len(shap_values[0]) #samples"
      ],
      "execution_count": null,
      "outputs": [
        {
          "output_type": "execute_result",
          "data": {
            "text/plain": [
              "300"
            ]
          },
          "metadata": {
            "tags": []
          },
          "execution_count": 72
        }
      ]
    },
    {
      "cell_type": "code",
      "metadata": {
        "colab": {
          "base_uri": "https://localhost:8080/"
        },
        "id": "x8Dqy2R0m5lc",
        "outputId": "faa7a795-4454-4cc3-acc8-f70dbabb4724"
      },
      "source": [
        "len(shap_values[0][0]) #fearures"
      ],
      "execution_count": null,
      "outputs": [
        {
          "output_type": "execute_result",
          "data": {
            "text/plain": [
              "19"
            ]
          },
          "metadata": {
            "tags": []
          },
          "execution_count": 73
        }
      ]
    },
    {
      "cell_type": "code",
      "metadata": {
        "id": "_1PlHWQ2mcUf"
      },
      "source": [
        "test = np.abs(shap_values)"
      ],
      "execution_count": null,
      "outputs": []
    },
    {
      "cell_type": "code",
      "metadata": {
        "colab": {
          "base_uri": "https://localhost:8080/"
        },
        "id": "BGIjcbEUpVt3",
        "outputId": "06899034-879c-47b5-fb95-fa29c1076755"
      },
      "source": [
        "np.mean(np.abs(shap_values[0]), axis=0)"
      ],
      "execution_count": null,
      "outputs": [
        {
          "output_type": "execute_result",
          "data": {
            "text/plain": [
              "array([0.00379096, 0.0064804 , 0.01324686, 0.04393718, 0.0437936 ,\n",
              "       0.00070372, 0.02900251, 0.0122822 , 0.02848065, 0.00797639,\n",
              "       0.02859053, 0.01609616, 0.00491467, 0.14294612, 0.00847236,\n",
              "       0.01005065, 0.03756639, 0.06315315, 0.01457997])"
            ]
          },
          "metadata": {
            "tags": []
          },
          "execution_count": 75
        }
      ]
    },
    {
      "cell_type": "code",
      "metadata": {
        "id": "UcypRZeZpjHs"
      },
      "source": [
        "test=np.abs(shap_values[0])"
      ],
      "execution_count": null,
      "outputs": []
    },
    {
      "cell_type": "code",
      "metadata": {
        "colab": {
          "base_uri": "https://localhost:8080/"
        },
        "id": "fADlH5_4pmIM",
        "outputId": "869a42be-9d93-4241-c6e5-4b20cdcfd9fe"
      },
      "source": [
        "test"
      ],
      "execution_count": null,
      "outputs": [
        {
          "output_type": "execute_result",
          "data": {
            "text/plain": [
              "array([[3.28365888e-04, 2.84650712e-04, 3.12707270e-03, ...,\n",
              "        6.19108276e-03, 2.25272663e-02, 1.06335394e-02],\n",
              "       [1.99967995e-03, 2.99238425e-04, 1.76859628e-02, ...,\n",
              "        3.15379016e-02, 4.17496152e-02, 5.89791525e-05],\n",
              "       [1.16402232e-04, 1.36206014e-04, 4.58951434e-03, ...,\n",
              "        3.27625195e-03, 1.48683460e-02, 3.44137545e-03],\n",
              "       ...,\n",
              "       [1.59581180e-03, 7.84325134e-03, 1.22163340e-03, ...,\n",
              "        2.55043665e-03, 1.43234096e-02, 3.34023964e-03],\n",
              "       [1.15415263e-04, 8.06420855e-03, 6.96949475e-03, ...,\n",
              "        7.55886510e-02, 7.40284333e-03, 3.13532446e-03],\n",
              "       [7.14621157e-04, 1.57435541e-04, 2.57572508e-03, ...,\n",
              "        3.57963610e-03, 1.60977803e-02, 5.60057256e-03]])"
            ]
          },
          "metadata": {
            "tags": []
          },
          "execution_count": 77
        }
      ]
    },
    {
      "cell_type": "code",
      "metadata": {
        "colab": {
          "base_uri": "https://localhost:8080/"
        },
        "id": "bu6eEm2MntKT",
        "outputId": "b73a7349-bf4d-40b4-f0f4-08a95c122cff"
      },
      "source": [
        "np.mean(np.abs(shap_values), axis=0)"
      ],
      "execution_count": null,
      "outputs": [
        {
          "output_type": "execute_result",
          "data": {
            "text/plain": [
              "array([[0.04259647, 0.02031222, 0.01044942, ..., 0.0176471 , 0.00780394,\n",
              "        0.00497555],\n",
              "       [0.02392337, 0.00187227, 0.00749045, ..., 0.03854733, 0.003752  ,\n",
              "        0.00067723],\n",
              "       [0.00427785, 0.00505079, 0.01432145, ..., 0.01251551, 0.00335703,\n",
              "        0.00256313],\n",
              "       ...,\n",
              "       [0.02382059, 0.033641  , 0.02029929, ..., 0.01591095, 0.00239891,\n",
              "        0.00182864],\n",
              "       [0.00323955, 0.00732224, 0.01114697, ..., 0.02490294, 0.00807997,\n",
              "        0.00412606],\n",
              "       [0.00610018, 0.00485709, 0.01387018, ..., 0.01450676, 0.00396672,\n",
              "        0.0022586 ]])"
            ]
          },
          "metadata": {
            "tags": []
          },
          "execution_count": 78
        }
      ]
    },
    {
      "cell_type": "code",
      "metadata": {
        "colab": {
          "base_uri": "https://localhost:8080/"
        },
        "id": "4R7xLEnLrZJW",
        "outputId": "b160bfd5-7c49-44d1-d4a8-2ceb881d1447"
      },
      "source": [
        "np.mean(np.abs(shap_values[0]), axis=0)"
      ],
      "execution_count": null,
      "outputs": [
        {
          "output_type": "execute_result",
          "data": {
            "text/plain": [
              "array([0.00379096, 0.0064804 , 0.01324686, 0.04393718, 0.0437936 ,\n",
              "       0.00070372, 0.02900251, 0.0122822 , 0.02848065, 0.00797639,\n",
              "       0.02859053, 0.01609616, 0.00491467, 0.14294612, 0.00847236,\n",
              "       0.01005065, 0.03756639, 0.06315315, 0.01457997])"
            ]
          },
          "metadata": {
            "tags": []
          },
          "execution_count": 79
        }
      ]
    },
    {
      "cell_type": "code",
      "metadata": {
        "id": "xkm3t8e-VO0H"
      },
      "source": [
        "features = np.array(['Fwd Packet Length Mean', 'Fwd Packet Length Std', 'Flow IAT Max', 'Bwd Packet Length Std', 'Fwd Packet Length Max', 'Flow Bytes/s', 'Total Length of Bwd Packets', 'Fwd Packet Length Mean', 'Flow Duration', 'Flow IAT Min', 'Total Length of Fwd Packets', 'Flow IAT Mean', 'Total Backward Packets', 'Bwd Packet Length Max', 'Flow Packets/s', 'Flow IAT Std', 'Fwd IAT Total', 'Bwd Packet Length Min', 'Fwd Packet Length Min'])"
      ],
      "execution_count": null,
      "outputs": []
    },
    {
      "cell_type": "code",
      "metadata": {
        "id": "cAtbFR2ajBhy"
      },
      "source": [
        "df = pd.DataFrame({\n",
        "    \"mean_abs_shap\":np.mean(np.abs(shap_values[0]), axis=0),\n",
        "    \"stdev_abs_shap\": np.std(np.abs(shap_values[0]), axis=0), \n",
        "    \"name\": features\n",
        "})\n",
        "#df.sort_values(\"mean_abs_shap\", ascending=False)[:10]"
      ],
      "execution_count": null,
      "outputs": []
    },
    {
      "cell_type": "code",
      "metadata": {
        "colab": {
          "base_uri": "https://localhost:8080/",
          "height": 638
        },
        "id": "NozenyEfrmC9",
        "outputId": "1e43fa75-b9f7-471b-e64d-bdbe984a74e1"
      },
      "source": [
        "df"
      ],
      "execution_count": null,
      "outputs": [
        {
          "output_type": "execute_result",
          "data": {
            "text/html": [
              "<div>\n",
              "<style scoped>\n",
              "    .dataframe tbody tr th:only-of-type {\n",
              "        vertical-align: middle;\n",
              "    }\n",
              "\n",
              "    .dataframe tbody tr th {\n",
              "        vertical-align: top;\n",
              "    }\n",
              "\n",
              "    .dataframe thead th {\n",
              "        text-align: right;\n",
              "    }\n",
              "</style>\n",
              "<table border=\"1\" class=\"dataframe\">\n",
              "  <thead>\n",
              "    <tr style=\"text-align: right;\">\n",
              "      <th></th>\n",
              "      <th>mean_abs_shap</th>\n",
              "      <th>stdev_abs_shap</th>\n",
              "      <th>name</th>\n",
              "    </tr>\n",
              "  </thead>\n",
              "  <tbody>\n",
              "    <tr>\n",
              "      <th>0</th>\n",
              "      <td>0.003791</td>\n",
              "      <td>0.011871</td>\n",
              "      <td>Fwd Packet Length Mean</td>\n",
              "    </tr>\n",
              "    <tr>\n",
              "      <th>1</th>\n",
              "      <td>0.006480</td>\n",
              "      <td>0.037179</td>\n",
              "      <td>Fwd Packet Length Std</td>\n",
              "    </tr>\n",
              "    <tr>\n",
              "      <th>2</th>\n",
              "      <td>0.013247</td>\n",
              "      <td>0.030198</td>\n",
              "      <td>Flow IAT Max</td>\n",
              "    </tr>\n",
              "    <tr>\n",
              "      <th>3</th>\n",
              "      <td>0.043937</td>\n",
              "      <td>0.342867</td>\n",
              "      <td>Bwd Packet Length Std</td>\n",
              "    </tr>\n",
              "    <tr>\n",
              "      <th>4</th>\n",
              "      <td>0.043794</td>\n",
              "      <td>0.404496</td>\n",
              "      <td>Fwd Packet Length Max</td>\n",
              "    </tr>\n",
              "    <tr>\n",
              "      <th>5</th>\n",
              "      <td>0.000704</td>\n",
              "      <td>0.004631</td>\n",
              "      <td>Flow Bytes/s</td>\n",
              "    </tr>\n",
              "    <tr>\n",
              "      <th>6</th>\n",
              "      <td>0.029003</td>\n",
              "      <td>0.195199</td>\n",
              "      <td>Total Length of Bwd Packets</td>\n",
              "    </tr>\n",
              "    <tr>\n",
              "      <th>7</th>\n",
              "      <td>0.012282</td>\n",
              "      <td>0.044017</td>\n",
              "      <td>Fwd Packet Length Mean</td>\n",
              "    </tr>\n",
              "    <tr>\n",
              "      <th>8</th>\n",
              "      <td>0.028481</td>\n",
              "      <td>0.162889</td>\n",
              "      <td>Flow Duration</td>\n",
              "    </tr>\n",
              "    <tr>\n",
              "      <th>9</th>\n",
              "      <td>0.007976</td>\n",
              "      <td>0.030994</td>\n",
              "      <td>Flow IAT Min</td>\n",
              "    </tr>\n",
              "    <tr>\n",
              "      <th>10</th>\n",
              "      <td>0.028591</td>\n",
              "      <td>0.198751</td>\n",
              "      <td>Total Length of Fwd Packets</td>\n",
              "    </tr>\n",
              "    <tr>\n",
              "      <th>11</th>\n",
              "      <td>0.016096</td>\n",
              "      <td>0.043726</td>\n",
              "      <td>Flow IAT Mean</td>\n",
              "    </tr>\n",
              "    <tr>\n",
              "      <th>12</th>\n",
              "      <td>0.004915</td>\n",
              "      <td>0.042783</td>\n",
              "      <td>Total Backward Packets</td>\n",
              "    </tr>\n",
              "    <tr>\n",
              "      <th>13</th>\n",
              "      <td>0.142946</td>\n",
              "      <td>1.312207</td>\n",
              "      <td>Bwd Packet Length Max</td>\n",
              "    </tr>\n",
              "    <tr>\n",
              "      <th>14</th>\n",
              "      <td>0.008472</td>\n",
              "      <td>0.047503</td>\n",
              "      <td>Flow Packets/s</td>\n",
              "    </tr>\n",
              "    <tr>\n",
              "      <th>15</th>\n",
              "      <td>0.010051</td>\n",
              "      <td>0.024028</td>\n",
              "      <td>Flow IAT Std</td>\n",
              "    </tr>\n",
              "    <tr>\n",
              "      <th>16</th>\n",
              "      <td>0.037566</td>\n",
              "      <td>0.210910</td>\n",
              "      <td>Fwd IAT Total</td>\n",
              "    </tr>\n",
              "    <tr>\n",
              "      <th>17</th>\n",
              "      <td>0.063153</td>\n",
              "      <td>0.420268</td>\n",
              "      <td>Bwd Packet Length Min</td>\n",
              "    </tr>\n",
              "    <tr>\n",
              "      <th>18</th>\n",
              "      <td>0.014580</td>\n",
              "      <td>0.046444</td>\n",
              "      <td>Fwd Packet Length Min</td>\n",
              "    </tr>\n",
              "  </tbody>\n",
              "</table>\n",
              "</div>"
            ],
            "text/plain": [
              "    mean_abs_shap  stdev_abs_shap                         name\n",
              "0        0.003791        0.011871       Fwd Packet Length Mean\n",
              "1        0.006480        0.037179        Fwd Packet Length Std\n",
              "2        0.013247        0.030198                 Flow IAT Max\n",
              "3        0.043937        0.342867        Bwd Packet Length Std\n",
              "4        0.043794        0.404496        Fwd Packet Length Max\n",
              "5        0.000704        0.004631                 Flow Bytes/s\n",
              "6        0.029003        0.195199  Total Length of Bwd Packets\n",
              "7        0.012282        0.044017       Fwd Packet Length Mean\n",
              "8        0.028481        0.162889                Flow Duration\n",
              "9        0.007976        0.030994                 Flow IAT Min\n",
              "10       0.028591        0.198751  Total Length of Fwd Packets\n",
              "11       0.016096        0.043726                Flow IAT Mean\n",
              "12       0.004915        0.042783       Total Backward Packets\n",
              "13       0.142946        1.312207        Bwd Packet Length Max\n",
              "14       0.008472        0.047503               Flow Packets/s\n",
              "15       0.010051        0.024028                 Flow IAT Std\n",
              "16       0.037566        0.210910                Fwd IAT Total\n",
              "17       0.063153        0.420268        Bwd Packet Length Min\n",
              "18       0.014580        0.046444        Fwd Packet Length Min"
            ]
          },
          "metadata": {
            "tags": []
          },
          "execution_count": 84
        }
      ]
    },
    {
      "cell_type": "code",
      "metadata": {
        "colab": {
          "base_uri": "https://localhost:8080/",
          "height": 560
        },
        "id": "GhQfkjdyq-0a",
        "outputId": "ee9808b4-1808-42b6-83a6-e60dfbc6528d"
      },
      "source": [
        "shap.summary_plot(shap_values, features=x_samples, feature_names=features)"
      ],
      "execution_count": null,
      "outputs": [
        {
          "output_type": "display_data",
          "data": {
            "image/png": "[encoded data removed]",
            "text/plain": [
              "<Figure size 576x655.2 with 1 Axes>"
            ]
          },
          "metadata": {
            "tags": [],
            "needs_background": "light"
          }
        }
      ]
    }
  ]
}